{
 "cells": [
  {
   "cell_type": "markdown",
   "metadata": {
    "id": "alIIEHibGc3M"
   },
   "source": [
    "## Part 1: Preprocessing"
   ]
  },
  {
   "cell_type": "code",
   "execution_count": 3,
   "metadata": {
    "colab": {
     "base_uri": "https://localhost:8080/",
     "height": 325
    },
    "id": "6eDUJ4NtGc3P",
    "outputId": "2480098c-135c-4cbf-9552-018494ee8ff5",
    "scrolled": true
   },
   "outputs": [
    {
     "data": {
      "text/html": [
       "<div>\n",
       "<style scoped>\n",
       "    .dataframe tbody tr th:only-of-type {\n",
       "        vertical-align: middle;\n",
       "    }\n",
       "\n",
       "    .dataframe tbody tr th {\n",
       "        vertical-align: top;\n",
       "    }\n",
       "\n",
       "    .dataframe thead th {\n",
       "        text-align: right;\n",
       "    }\n",
       "</style>\n",
       "<table border=\"1\" class=\"dataframe\">\n",
       "  <thead>\n",
       "    <tr style=\"text-align: right;\">\n",
       "      <th></th>\n",
       "      <th>Age</th>\n",
       "      <th>Attrition</th>\n",
       "      <th>BusinessTravel</th>\n",
       "      <th>Department</th>\n",
       "      <th>DistanceFromHome</th>\n",
       "      <th>Education</th>\n",
       "      <th>EducationField</th>\n",
       "      <th>EnvironmentSatisfaction</th>\n",
       "      <th>HourlyRate</th>\n",
       "      <th>JobInvolvement</th>\n",
       "      <th>...</th>\n",
       "      <th>PerformanceRating</th>\n",
       "      <th>RelationshipSatisfaction</th>\n",
       "      <th>StockOptionLevel</th>\n",
       "      <th>TotalWorkingYears</th>\n",
       "      <th>TrainingTimesLastYear</th>\n",
       "      <th>WorkLifeBalance</th>\n",
       "      <th>YearsAtCompany</th>\n",
       "      <th>YearsInCurrentRole</th>\n",
       "      <th>YearsSinceLastPromotion</th>\n",
       "      <th>YearsWithCurrManager</th>\n",
       "    </tr>\n",
       "  </thead>\n",
       "  <tbody>\n",
       "    <tr>\n",
       "      <th>0</th>\n",
       "      <td>41</td>\n",
       "      <td>Yes</td>\n",
       "      <td>Travel_Rarely</td>\n",
       "      <td>Sales</td>\n",
       "      <td>1</td>\n",
       "      <td>2</td>\n",
       "      <td>Life Sciences</td>\n",
       "      <td>2</td>\n",
       "      <td>94</td>\n",
       "      <td>3</td>\n",
       "      <td>...</td>\n",
       "      <td>3</td>\n",
       "      <td>1</td>\n",
       "      <td>0</td>\n",
       "      <td>8</td>\n",
       "      <td>0</td>\n",
       "      <td>1</td>\n",
       "      <td>6</td>\n",
       "      <td>4</td>\n",
       "      <td>0</td>\n",
       "      <td>5</td>\n",
       "    </tr>\n",
       "    <tr>\n",
       "      <th>1</th>\n",
       "      <td>49</td>\n",
       "      <td>No</td>\n",
       "      <td>Travel_Frequently</td>\n",
       "      <td>Research &amp; Development</td>\n",
       "      <td>8</td>\n",
       "      <td>1</td>\n",
       "      <td>Life Sciences</td>\n",
       "      <td>3</td>\n",
       "      <td>61</td>\n",
       "      <td>2</td>\n",
       "      <td>...</td>\n",
       "      <td>4</td>\n",
       "      <td>4</td>\n",
       "      <td>1</td>\n",
       "      <td>10</td>\n",
       "      <td>3</td>\n",
       "      <td>3</td>\n",
       "      <td>10</td>\n",
       "      <td>7</td>\n",
       "      <td>1</td>\n",
       "      <td>7</td>\n",
       "    </tr>\n",
       "    <tr>\n",
       "      <th>2</th>\n",
       "      <td>37</td>\n",
       "      <td>Yes</td>\n",
       "      <td>Travel_Rarely</td>\n",
       "      <td>Research &amp; Development</td>\n",
       "      <td>2</td>\n",
       "      <td>2</td>\n",
       "      <td>Other</td>\n",
       "      <td>4</td>\n",
       "      <td>92</td>\n",
       "      <td>2</td>\n",
       "      <td>...</td>\n",
       "      <td>3</td>\n",
       "      <td>2</td>\n",
       "      <td>0</td>\n",
       "      <td>7</td>\n",
       "      <td>3</td>\n",
       "      <td>3</td>\n",
       "      <td>0</td>\n",
       "      <td>0</td>\n",
       "      <td>0</td>\n",
       "      <td>0</td>\n",
       "    </tr>\n",
       "    <tr>\n",
       "      <th>3</th>\n",
       "      <td>33</td>\n",
       "      <td>No</td>\n",
       "      <td>Travel_Frequently</td>\n",
       "      <td>Research &amp; Development</td>\n",
       "      <td>3</td>\n",
       "      <td>4</td>\n",
       "      <td>Life Sciences</td>\n",
       "      <td>4</td>\n",
       "      <td>56</td>\n",
       "      <td>3</td>\n",
       "      <td>...</td>\n",
       "      <td>3</td>\n",
       "      <td>3</td>\n",
       "      <td>0</td>\n",
       "      <td>8</td>\n",
       "      <td>3</td>\n",
       "      <td>3</td>\n",
       "      <td>8</td>\n",
       "      <td>7</td>\n",
       "      <td>3</td>\n",
       "      <td>0</td>\n",
       "    </tr>\n",
       "    <tr>\n",
       "      <th>4</th>\n",
       "      <td>27</td>\n",
       "      <td>No</td>\n",
       "      <td>Travel_Rarely</td>\n",
       "      <td>Research &amp; Development</td>\n",
       "      <td>2</td>\n",
       "      <td>1</td>\n",
       "      <td>Medical</td>\n",
       "      <td>1</td>\n",
       "      <td>40</td>\n",
       "      <td>3</td>\n",
       "      <td>...</td>\n",
       "      <td>3</td>\n",
       "      <td>4</td>\n",
       "      <td>1</td>\n",
       "      <td>6</td>\n",
       "      <td>3</td>\n",
       "      <td>3</td>\n",
       "      <td>2</td>\n",
       "      <td>2</td>\n",
       "      <td>2</td>\n",
       "      <td>2</td>\n",
       "    </tr>\n",
       "  </tbody>\n",
       "</table>\n",
       "<p>5 rows × 27 columns</p>\n",
       "</div>"
      ],
      "text/plain": [
       "   Age Attrition     BusinessTravel              Department  DistanceFromHome  \\\n",
       "0   41       Yes      Travel_Rarely                   Sales                 1   \n",
       "1   49        No  Travel_Frequently  Research & Development                 8   \n",
       "2   37       Yes      Travel_Rarely  Research & Development                 2   \n",
       "3   33        No  Travel_Frequently  Research & Development                 3   \n",
       "4   27        No      Travel_Rarely  Research & Development                 2   \n",
       "\n",
       "   Education EducationField  EnvironmentSatisfaction  HourlyRate  \\\n",
       "0          2  Life Sciences                        2          94   \n",
       "1          1  Life Sciences                        3          61   \n",
       "2          2          Other                        4          92   \n",
       "3          4  Life Sciences                        4          56   \n",
       "4          1        Medical                        1          40   \n",
       "\n",
       "   JobInvolvement  ...  PerformanceRating RelationshipSatisfaction  \\\n",
       "0               3  ...                  3                        1   \n",
       "1               2  ...                  4                        4   \n",
       "2               2  ...                  3                        2   \n",
       "3               3  ...                  3                        3   \n",
       "4               3  ...                  3                        4   \n",
       "\n",
       "   StockOptionLevel TotalWorkingYears  TrainingTimesLastYear WorkLifeBalance  \\\n",
       "0                 0                 8                      0               1   \n",
       "1                 1                10                      3               3   \n",
       "2                 0                 7                      3               3   \n",
       "3                 0                 8                      3               3   \n",
       "4                 1                 6                      3               3   \n",
       "\n",
       "   YearsAtCompany  YearsInCurrentRole  YearsSinceLastPromotion  \\\n",
       "0               6                   4                        0   \n",
       "1              10                   7                        1   \n",
       "2               0                   0                        0   \n",
       "3               8                   7                        3   \n",
       "4               2                   2                        2   \n",
       "\n",
       "   YearsWithCurrManager  \n",
       "0                     5  \n",
       "1                     7  \n",
       "2                     0  \n",
       "3                     0  \n",
       "4                     2  \n",
       "\n",
       "[5 rows x 27 columns]"
      ]
     },
     "execution_count": 3,
     "metadata": {},
     "output_type": "execute_result"
    }
   ],
   "source": [
    "# Import our dependencies\n",
    "from sklearn.model_selection import train_test_split\n",
    "from sklearn.preprocessing import StandardScaler\n",
    "import pandas as pd\n",
    "import numpy as np\n",
    "from tensorflow.keras.models import Model\n",
    "from tensorflow.keras import layers\n",
    "\n",
    "#  Import and read the attrition data\n",
    "attrition_df = pd.read_csv('https://static.bc-edx.com/ai/ail-v-1-0/m19/lms/datasets/attrition.csv')\n",
    "attrition_df.head()"
   ]
  },
  {
   "cell_type": "code",
   "execution_count": 4,
   "metadata": {
    "colab": {
     "base_uri": "https://localhost:8080/"
    },
    "id": "g22aQSY4Gc3Q",
    "outputId": "1f5c13c1-b981-4e40-a7ed-dd3fe6f1b81e"
   },
   "outputs": [
    {
     "data": {
      "text/plain": [
       "Age                         43\n",
       "Attrition                    2\n",
       "BusinessTravel               3\n",
       "Department                   3\n",
       "DistanceFromHome            29\n",
       "Education                    5\n",
       "EducationField               6\n",
       "EnvironmentSatisfaction      4\n",
       "HourlyRate                  71\n",
       "JobInvolvement               4\n",
       "JobLevel                     5\n",
       "JobRole                      9\n",
       "JobSatisfaction              4\n",
       "MaritalStatus                3\n",
       "NumCompaniesWorked          10\n",
       "OverTime                     2\n",
       "PercentSalaryHike           15\n",
       "PerformanceRating            2\n",
       "RelationshipSatisfaction     4\n",
       "StockOptionLevel             4\n",
       "TotalWorkingYears           40\n",
       "TrainingTimesLastYear        7\n",
       "WorkLifeBalance              4\n",
       "YearsAtCompany              37\n",
       "YearsInCurrentRole          19\n",
       "YearsSinceLastPromotion     16\n",
       "YearsWithCurrManager        18\n",
       "dtype: int64"
      ]
     },
     "execution_count": 4,
     "metadata": {},
     "output_type": "execute_result"
    }
   ],
   "source": [
    "# Determine the number of unique values in each column.\n",
    "attrition_df.nunique()"
   ]
  },
  {
   "cell_type": "code",
   "execution_count": 5,
   "metadata": {
    "id": "50vMgBEnJbfM"
   },
   "outputs": [],
   "source": [
    "# Create y_df with the Attrition and Department columns\n",
    "y_df = attrition_df[['Attrition', 'Department']].copy()\n"
   ]
  },
  {
   "cell_type": "code",
   "execution_count": 6,
   "metadata": {
    "colab": {
     "base_uri": "https://localhost:8080/"
    },
    "id": "Virka0zLGc3R",
    "outputId": "dd5aee3a-9458-4ba6-e857-1b234de40915"
   },
   "outputs": [
    {
     "name": "stdout",
     "output_type": "stream",
     "text": [
      "Age                      int64\n",
      "DistanceFromHome         int64\n",
      "Education                int64\n",
      "JobLevel                 int64\n",
      "WorkLifeBalance          int64\n",
      "NumCompaniesWorked       int64\n",
      "PercentSalaryHike        int64\n",
      "TotalWorkingYears        int64\n",
      "TrainingTimesLastYear    int64\n",
      "YearsAtCompany           int64\n",
      "dtype: object\n"
     ]
    }
   ],
   "source": [
    "# Create a list of at least 10 column names to use as X data\n",
    "X_columns = [\n",
    "    'Age', \n",
    "    'DistanceFromHome', \n",
    "    'Education', \n",
    "    'JobLevel', \n",
    "    'WorkLifeBalance', \n",
    "    'NumCompaniesWorked', \n",
    "    'PercentSalaryHike', \n",
    "    'TotalWorkingYears', \n",
    "    'TrainingTimesLastYear', \n",
    "    'YearsAtCompany'\n",
    "]\n",
    "\n",
    "\n",
    "# Create X_df using your selected columns\n",
    "X_df = attrition_df[X_columns].copy()\n",
    "\n",
    "# Show the data types for X_df\n",
    "print(X_df.dtypes)\n",
    "\n"
   ]
  },
  {
   "cell_type": "code",
   "execution_count": 7,
   "metadata": {
    "id": "KaJfdOGUMHMR"
   },
   "outputs": [],
   "source": [
    "# Split the data into training and testing sets\n",
    "X_train, X_test, y_train, y_test = train_test_split(X_df, y_df, test_size=0.2, random_state=42)\n"
   ]
  },
  {
   "cell_type": "code",
   "execution_count": 8,
   "metadata": {
    "colab": {
     "base_uri": "https://localhost:8080/"
    },
    "id": "NYubUJqiLCSp",
    "outputId": "53f31721-571c-4c94-d13e-25a715749593"
   },
   "outputs": [
    {
     "name": "stdout",
     "output_type": "stream",
     "text": [
      "Age                      int64\n",
      "DistanceFromHome         int64\n",
      "Education                int64\n",
      "JobLevel                 int64\n",
      "WorkLifeBalance          int64\n",
      "NumCompaniesWorked       int64\n",
      "PercentSalaryHike        int64\n",
      "TotalWorkingYears        int64\n",
      "TrainingTimesLastYear    int64\n",
      "YearsAtCompany           int64\n",
      "dtype: object\n"
     ]
    }
   ],
   "source": [
    "# Convert your X data to numeric data types however you see fit\n",
    "# Add new code cells as necessary\n",
    "print(X_df.dtypes)\n"
   ]
  },
  {
   "cell_type": "code",
   "execution_count": 9,
   "metadata": {
    "id": "EWA-aIA5Gc3T"
   },
   "outputs": [],
   "source": [
    "# Create a StandardScaler\n",
    "scaler = StandardScaler()\n",
    "\n",
    "# Fit the StandardScaler to the training data\n",
    "scaler.fit(X_train)\n",
    "\n",
    "# Scale the training and testing data\n",
    "# Transform the training data\n",
    "X_train_scaled = scaler.transform(X_train)\n",
    "\n",
    "# Transform the testing data with the same scaler\n",
    "X_test_scaled = scaler.transform(X_test)\n"
   ]
  },
  {
   "cell_type": "code",
   "execution_count": 10,
   "metadata": {
    "colab": {
     "base_uri": "https://localhost:8080/"
    },
    "id": "-z0Mky8vQSz4",
    "outputId": "debefc85-c20b-48f5-f4d9-91eadd65d36a"
   },
   "outputs": [
    {
     "name": "stdout",
     "output_type": "stream",
     "text": [
      "[[0. 1. 0.]\n",
      " [0. 1. 0.]\n",
      " [0. 0. 1.]\n",
      " ...\n",
      " [0. 1. 0.]\n",
      " [0. 1. 0.]\n",
      " [0. 0. 1.]]\n"
     ]
    }
   ],
   "source": [
    "# Create a OneHotEncoder for the Department column\n",
    "from sklearn.preprocessing import OneHotEncoder\n",
    "\n",
    "department_encoder = OneHotEncoder(sparse_output=False)\n",
    "\n",
    "# Fit the encoder to the training data\n",
    "department_encoder.fit(y_train[['Department']])\n",
    "\n",
    "\n",
    "# Create two new variables by applying the encoder\n",
    "# to the training and testing data\n",
    "y_train_dept = department_encoder.transform(y_train[['Department']])\n",
    "y_test_dept = department_encoder.transform(y_test[['Department']])\n",
    "\n",
    "print(y_train_dept)"
   ]
  },
  {
   "cell_type": "code",
   "execution_count": 11,
   "metadata": {
    "colab": {
     "base_uri": "https://localhost:8080/"
    },
    "id": "-G4DSpvFRrk4",
    "outputId": "9842e948-8a55-4b80-8fac-f96714e85589"
   },
   "outputs": [
    {
     "name": "stdout",
     "output_type": "stream",
     "text": [
      "[[1. 0.]\n",
      " [1. 0.]\n",
      " [1. 0.]\n",
      " ...\n",
      " [0. 1.]\n",
      " [1. 0.]\n",
      " [1. 0.]]\n"
     ]
    }
   ],
   "source": [
    "# Create a OneHotEncoder for the Attrition column\n",
    "att_encoder = OneHotEncoder(sparse_output=False)\n",
    "\n",
    "# Fit the encoder to the training data\n",
    "att_encoder.fit(y_train[['Attrition']])\n",
    "\n",
    "\n",
    "# Create two new variables by applying the encoder\n",
    "# to the training and testing data\n",
    "y_train_att = att_encoder.transform(y_train[['Attrition']])\n",
    "y_test_att = att_encoder.transform(y_test[['Attrition']])\n",
    "\n",
    "print(y_train_att)"
   ]
  },
  {
   "cell_type": "markdown",
   "metadata": {
    "id": "ykNmu_WWGc3T"
   },
   "source": [
    "## Create, Compile, and Train the Model"
   ]
  },
  {
   "cell_type": "code",
   "execution_count": 13,
   "metadata": {
    "id": "WUptZqmSGc3T"
   },
   "outputs": [],
   "source": [
    "# Find the number of columns in the X training data\n",
    "num_features = X_train.shape[1]\n",
    "\n",
    "\n",
    "# Create the input layer\n",
    "input_layer = layers.Input(shape=(X_train.shape[1],), name='input_features')\n",
    "\n",
    "# Create at least two shared layers\n",
    "shared_layer1 = layers.Dense(64, activation='relu', name='shared1')(input_layer)\n",
    "shared_layer2 = layers.Dense(128, activation='relu', name='shared2')(shared_layer1)"
   ]
  },
  {
   "cell_type": "code",
   "execution_count": 14,
   "metadata": {
    "id": "JukjTm2yTEqd"
   },
   "outputs": [],
   "source": [
    "# Create a branch for Department\n",
    "# with a hidden layer and an output layer\n",
    "\n",
    "# Create the hidden layer\n",
    "department_hidden = layers.Dense(32, activation='relu', name='department_hidden')(shared_layer2)\n",
    "\n",
    "\n",
    "# Create the output layer\n",
    "department_output = layers.Dense(3, activation='softmax', name='department_output')(department_hidden)\n",
    "\n"
   ]
  },
  {
   "cell_type": "code",
   "execution_count": 20,
   "metadata": {
    "id": "9OqhUiOJUBkR"
   },
   "outputs": [],
   "source": [
    "# Create a branch for Attrition\n",
    "# with a hidden layer and an output layer\n",
    "\n",
    "# Create the hidden layer\n",
    "attrition_hidden = layers.Dense(32, activation='relu', name='attrition_hidden')(shared_layer2)\n",
    "\n",
    "\n",
    "# Create the output layer\n",
    "attrition_output = layers.Dense(2, activation='sigmoid', name='attrition_output')(attrition_hidden)\n",
    "\n"
   ]
  },
  {
   "cell_type": "code",
   "execution_count": 22,
   "metadata": {
    "colab": {
     "base_uri": "https://localhost:8080/"
    },
    "id": "twmuejdxGc3T",
    "outputId": "25096308-b68b-42e4-e4ea-ae82e97c435a"
   },
   "outputs": [
    {
     "data": {
      "text/html": [
       "<pre style=\"white-space:pre;overflow-x:auto;line-height:normal;font-family:Menlo,'DejaVu Sans Mono',consolas,'Courier New',monospace\"><span style=\"font-weight: bold\">Model: \"functional_1\"</span>\n",
       "</pre>\n"
      ],
      "text/plain": [
       "\u001b[1mModel: \"functional_1\"\u001b[0m\n"
      ]
     },
     "metadata": {},
     "output_type": "display_data"
    },
    {
     "data": {
      "text/html": [
       "<pre style=\"white-space:pre;overflow-x:auto;line-height:normal;font-family:Menlo,'DejaVu Sans Mono',consolas,'Courier New',monospace\">┏━━━━━━━━━━━━━━━━━━━━━━━━━━━━━━━┳━━━━━━━━━━━━━━━━━━━━━━━━━━━┳━━━━━━━━━━━━━━━━━┳━━━━━━━━━━━━━━━━━━━━━━━━━━━━┓\n",
       "┃<span style=\"font-weight: bold\"> Layer (type)                  </span>┃<span style=\"font-weight: bold\"> Output Shape              </span>┃<span style=\"font-weight: bold\">         Param # </span>┃<span style=\"font-weight: bold\"> Connected to               </span>┃\n",
       "┡━━━━━━━━━━━━━━━━━━━━━━━━━━━━━━━╇━━━━━━━━━━━━━━━━━━━━━━━━━━━╇━━━━━━━━━━━━━━━━━╇━━━━━━━━━━━━━━━━━━━━━━━━━━━━┩\n",
       "│ input_features (<span style=\"color: #0087ff; text-decoration-color: #0087ff\">InputLayer</span>)   │ (<span style=\"color: #00d7ff; text-decoration-color: #00d7ff\">None</span>, <span style=\"color: #00af00; text-decoration-color: #00af00\">10</span>)                │               <span style=\"color: #00af00; text-decoration-color: #00af00\">0</span> │ -                          │\n",
       "├───────────────────────────────┼───────────────────────────┼─────────────────┼────────────────────────────┤\n",
       "│ shared1 (<span style=\"color: #0087ff; text-decoration-color: #0087ff\">Dense</span>)               │ (<span style=\"color: #00d7ff; text-decoration-color: #00d7ff\">None</span>, <span style=\"color: #00af00; text-decoration-color: #00af00\">64</span>)                │             <span style=\"color: #00af00; text-decoration-color: #00af00\">704</span> │ input_features[<span style=\"color: #00af00; text-decoration-color: #00af00\">0</span>][<span style=\"color: #00af00; text-decoration-color: #00af00\">0</span>]       │\n",
       "├───────────────────────────────┼───────────────────────────┼─────────────────┼────────────────────────────┤\n",
       "│ shared2 (<span style=\"color: #0087ff; text-decoration-color: #0087ff\">Dense</span>)               │ (<span style=\"color: #00d7ff; text-decoration-color: #00d7ff\">None</span>, <span style=\"color: #00af00; text-decoration-color: #00af00\">128</span>)               │           <span style=\"color: #00af00; text-decoration-color: #00af00\">8,320</span> │ shared1[<span style=\"color: #00af00; text-decoration-color: #00af00\">0</span>][<span style=\"color: #00af00; text-decoration-color: #00af00\">0</span>]              │\n",
       "├───────────────────────────────┼───────────────────────────┼─────────────────┼────────────────────────────┤\n",
       "│ attrition_hidden (<span style=\"color: #0087ff; text-decoration-color: #0087ff\">Dense</span>)      │ (<span style=\"color: #00d7ff; text-decoration-color: #00d7ff\">None</span>, <span style=\"color: #00af00; text-decoration-color: #00af00\">32</span>)                │           <span style=\"color: #00af00; text-decoration-color: #00af00\">4,128</span> │ shared2[<span style=\"color: #00af00; text-decoration-color: #00af00\">0</span>][<span style=\"color: #00af00; text-decoration-color: #00af00\">0</span>]              │\n",
       "├───────────────────────────────┼───────────────────────────┼─────────────────┼────────────────────────────┤\n",
       "│ department_hidden (<span style=\"color: #0087ff; text-decoration-color: #0087ff\">Dense</span>)     │ (<span style=\"color: #00d7ff; text-decoration-color: #00d7ff\">None</span>, <span style=\"color: #00af00; text-decoration-color: #00af00\">32</span>)                │           <span style=\"color: #00af00; text-decoration-color: #00af00\">4,128</span> │ shared2[<span style=\"color: #00af00; text-decoration-color: #00af00\">0</span>][<span style=\"color: #00af00; text-decoration-color: #00af00\">0</span>]              │\n",
       "├───────────────────────────────┼───────────────────────────┼─────────────────┼────────────────────────────┤\n",
       "│ attrition_output (<span style=\"color: #0087ff; text-decoration-color: #0087ff\">Dense</span>)      │ (<span style=\"color: #00d7ff; text-decoration-color: #00d7ff\">None</span>, <span style=\"color: #00af00; text-decoration-color: #00af00\">2</span>)                 │              <span style=\"color: #00af00; text-decoration-color: #00af00\">66</span> │ attrition_hidden[<span style=\"color: #00af00; text-decoration-color: #00af00\">0</span>][<span style=\"color: #00af00; text-decoration-color: #00af00\">0</span>]     │\n",
       "├───────────────────────────────┼───────────────────────────┼─────────────────┼────────────────────────────┤\n",
       "│ department_output (<span style=\"color: #0087ff; text-decoration-color: #0087ff\">Dense</span>)     │ (<span style=\"color: #00d7ff; text-decoration-color: #00d7ff\">None</span>, <span style=\"color: #00af00; text-decoration-color: #00af00\">3</span>)                 │              <span style=\"color: #00af00; text-decoration-color: #00af00\">99</span> │ department_hidden[<span style=\"color: #00af00; text-decoration-color: #00af00\">0</span>][<span style=\"color: #00af00; text-decoration-color: #00af00\">0</span>]    │\n",
       "└───────────────────────────────┴───────────────────────────┴─────────────────┴────────────────────────────┘\n",
       "</pre>\n"
      ],
      "text/plain": [
       "┏━━━━━━━━━━━━━━━━━━━━━━━━━━━━━━━┳━━━━━━━━━━━━━━━━━━━━━━━━━━━┳━━━━━━━━━━━━━━━━━┳━━━━━━━━━━━━━━━━━━━━━━━━━━━━┓\n",
       "┃\u001b[1m \u001b[0m\u001b[1mLayer (type)                 \u001b[0m\u001b[1m \u001b[0m┃\u001b[1m \u001b[0m\u001b[1mOutput Shape             \u001b[0m\u001b[1m \u001b[0m┃\u001b[1m \u001b[0m\u001b[1m        Param #\u001b[0m\u001b[1m \u001b[0m┃\u001b[1m \u001b[0m\u001b[1mConnected to              \u001b[0m\u001b[1m \u001b[0m┃\n",
       "┡━━━━━━━━━━━━━━━━━━━━━━━━━━━━━━━╇━━━━━━━━━━━━━━━━━━━━━━━━━━━╇━━━━━━━━━━━━━━━━━╇━━━━━━━━━━━━━━━━━━━━━━━━━━━━┩\n",
       "│ input_features (\u001b[38;5;33mInputLayer\u001b[0m)   │ (\u001b[38;5;45mNone\u001b[0m, \u001b[38;5;34m10\u001b[0m)                │               \u001b[38;5;34m0\u001b[0m │ -                          │\n",
       "├───────────────────────────────┼───────────────────────────┼─────────────────┼────────────────────────────┤\n",
       "│ shared1 (\u001b[38;5;33mDense\u001b[0m)               │ (\u001b[38;5;45mNone\u001b[0m, \u001b[38;5;34m64\u001b[0m)                │             \u001b[38;5;34m704\u001b[0m │ input_features[\u001b[38;5;34m0\u001b[0m][\u001b[38;5;34m0\u001b[0m]       │\n",
       "├───────────────────────────────┼───────────────────────────┼─────────────────┼────────────────────────────┤\n",
       "│ shared2 (\u001b[38;5;33mDense\u001b[0m)               │ (\u001b[38;5;45mNone\u001b[0m, \u001b[38;5;34m128\u001b[0m)               │           \u001b[38;5;34m8,320\u001b[0m │ shared1[\u001b[38;5;34m0\u001b[0m][\u001b[38;5;34m0\u001b[0m]              │\n",
       "├───────────────────────────────┼───────────────────────────┼─────────────────┼────────────────────────────┤\n",
       "│ attrition_hidden (\u001b[38;5;33mDense\u001b[0m)      │ (\u001b[38;5;45mNone\u001b[0m, \u001b[38;5;34m32\u001b[0m)                │           \u001b[38;5;34m4,128\u001b[0m │ shared2[\u001b[38;5;34m0\u001b[0m][\u001b[38;5;34m0\u001b[0m]              │\n",
       "├───────────────────────────────┼───────────────────────────┼─────────────────┼────────────────────────────┤\n",
       "│ department_hidden (\u001b[38;5;33mDense\u001b[0m)     │ (\u001b[38;5;45mNone\u001b[0m, \u001b[38;5;34m32\u001b[0m)                │           \u001b[38;5;34m4,128\u001b[0m │ shared2[\u001b[38;5;34m0\u001b[0m][\u001b[38;5;34m0\u001b[0m]              │\n",
       "├───────────────────────────────┼───────────────────────────┼─────────────────┼────────────────────────────┤\n",
       "│ attrition_output (\u001b[38;5;33mDense\u001b[0m)      │ (\u001b[38;5;45mNone\u001b[0m, \u001b[38;5;34m2\u001b[0m)                 │              \u001b[38;5;34m66\u001b[0m │ attrition_hidden[\u001b[38;5;34m0\u001b[0m][\u001b[38;5;34m0\u001b[0m]     │\n",
       "├───────────────────────────────┼───────────────────────────┼─────────────────┼────────────────────────────┤\n",
       "│ department_output (\u001b[38;5;33mDense\u001b[0m)     │ (\u001b[38;5;45mNone\u001b[0m, \u001b[38;5;34m3\u001b[0m)                 │              \u001b[38;5;34m99\u001b[0m │ department_hidden[\u001b[38;5;34m0\u001b[0m][\u001b[38;5;34m0\u001b[0m]    │\n",
       "└───────────────────────────────┴───────────────────────────┴─────────────────┴────────────────────────────┘\n"
      ]
     },
     "metadata": {},
     "output_type": "display_data"
    },
    {
     "data": {
      "text/html": [
       "<pre style=\"white-space:pre;overflow-x:auto;line-height:normal;font-family:Menlo,'DejaVu Sans Mono',consolas,'Courier New',monospace\"><span style=\"font-weight: bold\"> Total params: </span><span style=\"color: #00af00; text-decoration-color: #00af00\">17,445</span> (68.14 KB)\n",
       "</pre>\n"
      ],
      "text/plain": [
       "\u001b[1m Total params: \u001b[0m\u001b[38;5;34m17,445\u001b[0m (68.14 KB)\n"
      ]
     },
     "metadata": {},
     "output_type": "display_data"
    },
    {
     "data": {
      "text/html": [
       "<pre style=\"white-space:pre;overflow-x:auto;line-height:normal;font-family:Menlo,'DejaVu Sans Mono',consolas,'Courier New',monospace\"><span style=\"font-weight: bold\"> Trainable params: </span><span style=\"color: #00af00; text-decoration-color: #00af00\">17,445</span> (68.14 KB)\n",
       "</pre>\n"
      ],
      "text/plain": [
       "\u001b[1m Trainable params: \u001b[0m\u001b[38;5;34m17,445\u001b[0m (68.14 KB)\n"
      ]
     },
     "metadata": {},
     "output_type": "display_data"
    },
    {
     "data": {
      "text/html": [
       "<pre style=\"white-space:pre;overflow-x:auto;line-height:normal;font-family:Menlo,'DejaVu Sans Mono',consolas,'Courier New',monospace\"><span style=\"font-weight: bold\"> Non-trainable params: </span><span style=\"color: #00af00; text-decoration-color: #00af00\">0</span> (0.00 B)\n",
       "</pre>\n"
      ],
      "text/plain": [
       "\u001b[1m Non-trainable params: \u001b[0m\u001b[38;5;34m0\u001b[0m (0.00 B)\n"
      ]
     },
     "metadata": {},
     "output_type": "display_data"
    }
   ],
   "source": [
    "# Create the model\n",
    "model = Model(inputs=input_layer, outputs={'department_output' : department_output, 'attrition_output' : attrition_output})\n",
    "\n",
    "\n",
    "# Compile the model\n",
    "model.compile(optimizer='adam',\n",
    "              loss={'department_output': 'categorical_crossentropy', 'attrition_output': 'binary_crossentropy'},\n",
    "              metrics={'department_output': 'accuracy', 'attrition_output': 'accuracy'})\n",
    "\n",
    "# Summarize the model\n",
    "model.summary()"
   ]
  },
  {
   "cell_type": "code",
   "execution_count": 24,
   "metadata": {},
   "outputs": [
    {
     "name": "stdout",
     "output_type": "stream",
     "text": [
      "X_train_scaled shape: (1176, 10)\n",
      "y_train_dept shape: (1176, 3)\n",
      "y_train_att shape: (1176, 2)\n"
     ]
    }
   ],
   "source": [
    "print(\"X_train_scaled shape:\", X_train_scaled.shape)\n",
    "print(\"y_train_dept shape:\", y_train_dept.shape)\n",
    "print(\"y_train_att shape:\", y_train_att.shape)"
   ]
  },
  {
   "cell_type": "code",
   "execution_count": 34,
   "metadata": {
    "colab": {
     "base_uri": "https://localhost:8080/"
    },
    "id": "c8oGy0dpGc3U",
    "outputId": "cc667d43-28cf-42d4-d719-c2bc02888d30"
   },
   "outputs": [
    {
     "name": "stdout",
     "output_type": "stream",
     "text": [
      "Epoch 1/100\n",
      "\u001b[1m30/30\u001b[0m \u001b[32m━━━━━━━━━━━━━━━━━━━━\u001b[0m\u001b[37m\u001b[0m \u001b[1m0s\u001b[0m 4ms/step - attrition_output_accuracy: 0.9070 - attrition_output_loss: 0.2235 - department_output_accuracy: 0.8955 - department_output_loss: 0.3335 - loss: 0.5569 - val_attrition_output_accuracy: 0.7458 - val_attrition_output_loss: 0.5832 - val_department_output_accuracy: 0.6568 - val_department_output_loss: 1.0324 - val_loss: 1.6747\n",
      "Epoch 2/100\n",
      "\u001b[1m30/30\u001b[0m \u001b[32m━━━━━━━━━━━━━━━━━━━━\u001b[0m\u001b[37m\u001b[0m \u001b[1m0s\u001b[0m 2ms/step - attrition_output_accuracy: 0.9162 - attrition_output_loss: 0.2080 - department_output_accuracy: 0.8795 - department_output_loss: 0.3396 - loss: 0.5470 - val_attrition_output_accuracy: 0.7585 - val_attrition_output_loss: 0.6333 - val_department_output_accuracy: 0.6398 - val_department_output_loss: 1.0003 - val_loss: 1.6939\n",
      "Epoch 3/100\n",
      "\u001b[1m30/30\u001b[0m \u001b[32m━━━━━━━━━━━━━━━━━━━━\u001b[0m\u001b[37m\u001b[0m \u001b[1m0s\u001b[0m 2ms/step - attrition_output_accuracy: 0.9093 - attrition_output_loss: 0.2154 - department_output_accuracy: 0.8917 - department_output_loss: 0.2917 - loss: 0.5066 - val_attrition_output_accuracy: 0.7542 - val_attrition_output_loss: 0.6240 - val_department_output_accuracy: 0.6017 - val_department_output_loss: 0.9613 - val_loss: 1.6599\n",
      "Epoch 4/100\n",
      "\u001b[1m30/30\u001b[0m \u001b[32m━━━━━━━━━━━━━━━━━━━━\u001b[0m\u001b[37m\u001b[0m \u001b[1m0s\u001b[0m 2ms/step - attrition_output_accuracy: 0.9335 - attrition_output_loss: 0.1832 - department_output_accuracy: 0.8759 - department_output_loss: 0.3222 - loss: 0.5046 - val_attrition_output_accuracy: 0.7669 - val_attrition_output_loss: 0.6776 - val_department_output_accuracy: 0.6144 - val_department_output_loss: 1.0040 - val_loss: 1.7607\n",
      "Epoch 5/100\n",
      "\u001b[1m30/30\u001b[0m \u001b[32m━━━━━━━━━━━━━━━━━━━━\u001b[0m\u001b[37m\u001b[0m \u001b[1m0s\u001b[0m 3ms/step - attrition_output_accuracy: 0.9144 - attrition_output_loss: 0.1993 - department_output_accuracy: 0.9002 - department_output_loss: 0.2844 - loss: 0.4841 - val_attrition_output_accuracy: 0.7627 - val_attrition_output_loss: 0.6321 - val_department_output_accuracy: 0.6483 - val_department_output_loss: 1.0667 - val_loss: 1.7618\n",
      "Epoch 6/100\n",
      "\u001b[1m30/30\u001b[0m \u001b[32m━━━━━━━━━━━━━━━━━━━━\u001b[0m\u001b[37m\u001b[0m \u001b[1m0s\u001b[0m 2ms/step - attrition_output_accuracy: 0.9306 - attrition_output_loss: 0.1940 - department_output_accuracy: 0.9130 - department_output_loss: 0.2824 - loss: 0.4763 - val_attrition_output_accuracy: 0.7754 - val_attrition_output_loss: 0.7081 - val_department_output_accuracy: 0.6441 - val_department_output_loss: 1.0967 - val_loss: 1.8670\n",
      "Epoch 7/100\n",
      "\u001b[1m30/30\u001b[0m \u001b[32m━━━━━━━━━━━━━━━━━━━━\u001b[0m\u001b[37m\u001b[0m \u001b[1m0s\u001b[0m 3ms/step - attrition_output_accuracy: 0.9274 - attrition_output_loss: 0.1875 - department_output_accuracy: 0.9176 - department_output_loss: 0.2571 - loss: 0.4448 - val_attrition_output_accuracy: 0.7797 - val_attrition_output_loss: 0.7490 - val_department_output_accuracy: 0.6398 - val_department_output_loss: 1.1266 - val_loss: 1.9446\n",
      "Epoch 8/100\n",
      "\u001b[1m30/30\u001b[0m \u001b[32m━━━━━━━━━━━━━━━━━━━━\u001b[0m\u001b[37m\u001b[0m \u001b[1m0s\u001b[0m 2ms/step - attrition_output_accuracy: 0.9328 - attrition_output_loss: 0.1678 - department_output_accuracy: 0.9013 - department_output_loss: 0.2640 - loss: 0.4310 - val_attrition_output_accuracy: 0.7712 - val_attrition_output_loss: 0.6625 - val_department_output_accuracy: 0.6059 - val_department_output_loss: 1.0599 - val_loss: 1.8029\n",
      "Epoch 9/100\n",
      "\u001b[1m30/30\u001b[0m \u001b[32m━━━━━━━━━━━━━━━━━━━━\u001b[0m\u001b[37m\u001b[0m \u001b[1m0s\u001b[0m 2ms/step - attrition_output_accuracy: 0.9306 - attrition_output_loss: 0.1720 - department_output_accuracy: 0.9079 - department_output_loss: 0.2765 - loss: 0.4486 - val_attrition_output_accuracy: 0.7754 - val_attrition_output_loss: 0.7538 - val_department_output_accuracy: 0.6483 - val_department_output_loss: 1.2163 - val_loss: 2.0422\n",
      "Epoch 10/100\n",
      "\u001b[1m30/30\u001b[0m \u001b[32m━━━━━━━━━━━━━━━━━━━━\u001b[0m\u001b[37m\u001b[0m \u001b[1m0s\u001b[0m 2ms/step - attrition_output_accuracy: 0.9432 - attrition_output_loss: 0.1441 - department_output_accuracy: 0.9039 - department_output_loss: 0.2494 - loss: 0.3938 - val_attrition_output_accuracy: 0.7373 - val_attrition_output_loss: 0.6701 - val_department_output_accuracy: 0.6398 - val_department_output_loss: 1.2589 - val_loss: 1.9824\n",
      "Epoch 11/100\n",
      "\u001b[1m30/30\u001b[0m \u001b[32m━━━━━━━━━━━━━━━━━━━━\u001b[0m\u001b[37m\u001b[0m \u001b[1m0s\u001b[0m 2ms/step - attrition_output_accuracy: 0.9462 - attrition_output_loss: 0.1444 - department_output_accuracy: 0.9207 - department_output_loss: 0.2369 - loss: 0.3815 - val_attrition_output_accuracy: 0.7839 - val_attrition_output_loss: 0.7355 - val_department_output_accuracy: 0.6441 - val_department_output_loss: 1.1829 - val_loss: 2.0012\n",
      "Epoch 12/100\n",
      "\u001b[1m30/30\u001b[0m \u001b[32m━━━━━━━━━━━━━━━━━━━━\u001b[0m\u001b[37m\u001b[0m \u001b[1m0s\u001b[0m 2ms/step - attrition_output_accuracy: 0.9414 - attrition_output_loss: 0.1464 - department_output_accuracy: 0.9418 - department_output_loss: 0.2232 - loss: 0.3696 - val_attrition_output_accuracy: 0.7627 - val_attrition_output_loss: 0.7176 - val_department_output_accuracy: 0.6356 - val_department_output_loss: 1.2450 - val_loss: 2.0388\n",
      "Epoch 13/100\n",
      "\u001b[1m30/30\u001b[0m \u001b[32m━━━━━━━━━━━━━━━━━━━━\u001b[0m\u001b[37m\u001b[0m \u001b[1m0s\u001b[0m 2ms/step - attrition_output_accuracy: 0.9450 - attrition_output_loss: 0.1390 - department_output_accuracy: 0.9496 - department_output_loss: 0.2117 - loss: 0.3503 - val_attrition_output_accuracy: 0.7415 - val_attrition_output_loss: 0.7309 - val_department_output_accuracy: 0.5678 - val_department_output_loss: 1.2466 - val_loss: 2.0488\n",
      "Epoch 14/100\n",
      "\u001b[1m30/30\u001b[0m \u001b[32m━━━━━━━━━━━━━━━━━━━━\u001b[0m\u001b[37m\u001b[0m \u001b[1m0s\u001b[0m 3ms/step - attrition_output_accuracy: 0.9392 - attrition_output_loss: 0.1552 - department_output_accuracy: 0.9288 - department_output_loss: 0.2158 - loss: 0.3711 - val_attrition_output_accuracy: 0.7712 - val_attrition_output_loss: 0.7826 - val_department_output_accuracy: 0.6017 - val_department_output_loss: 1.2074 - val_loss: 2.0772\n",
      "Epoch 15/100\n",
      "\u001b[1m30/30\u001b[0m \u001b[32m━━━━━━━━━━━━━━━━━━━━\u001b[0m\u001b[37m\u001b[0m \u001b[1m0s\u001b[0m 2ms/step - attrition_output_accuracy: 0.9516 - attrition_output_loss: 0.1206 - department_output_accuracy: 0.9414 - department_output_loss: 0.1900 - loss: 0.3104 - val_attrition_output_accuracy: 0.7500 - val_attrition_output_loss: 0.7447 - val_department_output_accuracy: 0.5720 - val_department_output_loss: 1.2379 - val_loss: 2.0800\n",
      "Epoch 16/100\n",
      "\u001b[1m30/30\u001b[0m \u001b[32m━━━━━━━━━━━━━━━━━━━━\u001b[0m\u001b[37m\u001b[0m \u001b[1m0s\u001b[0m 2ms/step - attrition_output_accuracy: 0.9465 - attrition_output_loss: 0.1273 - department_output_accuracy: 0.9351 - department_output_loss: 0.2121 - loss: 0.3396 - val_attrition_output_accuracy: 0.7415 - val_attrition_output_loss: 0.7430 - val_department_output_accuracy: 0.6186 - val_department_output_loss: 1.3231 - val_loss: 2.1417\n",
      "Epoch 17/100\n",
      "\u001b[1m30/30\u001b[0m \u001b[32m━━━━━━━━━━━━━━━━━━━━\u001b[0m\u001b[37m\u001b[0m \u001b[1m0s\u001b[0m 2ms/step - attrition_output_accuracy: 0.9547 - attrition_output_loss: 0.1207 - department_output_accuracy: 0.9515 - department_output_loss: 0.1844 - loss: 0.3052 - val_attrition_output_accuracy: 0.7627 - val_attrition_output_loss: 0.7643 - val_department_output_accuracy: 0.5975 - val_department_output_loss: 1.3688 - val_loss: 2.2048\n",
      "Epoch 18/100\n",
      "\u001b[1m30/30\u001b[0m \u001b[32m━━━━━━━━━━━━━━━━━━━━\u001b[0m\u001b[37m\u001b[0m \u001b[1m0s\u001b[0m 2ms/step - attrition_output_accuracy: 0.9623 - attrition_output_loss: 0.1207 - department_output_accuracy: 0.9628 - department_output_loss: 0.1643 - loss: 0.2851 - val_attrition_output_accuracy: 0.7585 - val_attrition_output_loss: 0.8599 - val_department_output_accuracy: 0.5847 - val_department_output_loss: 1.4224 - val_loss: 2.3539\n",
      "Epoch 19/100\n",
      "\u001b[1m30/30\u001b[0m \u001b[32m━━━━━━━━━━━━━━━━━━━━\u001b[0m\u001b[37m\u001b[0m \u001b[1m0s\u001b[0m 2ms/step - attrition_output_accuracy: 0.9626 - attrition_output_loss: 0.1180 - department_output_accuracy: 0.9384 - department_output_loss: 0.2014 - loss: 0.3193 - val_attrition_output_accuracy: 0.7712 - val_attrition_output_loss: 0.8671 - val_department_output_accuracy: 0.6271 - val_department_output_loss: 1.3837 - val_loss: 2.3468\n",
      "Epoch 20/100\n",
      "\u001b[1m30/30\u001b[0m \u001b[32m━━━━━━━━━━━━━━━━━━━━\u001b[0m\u001b[37m\u001b[0m \u001b[1m0s\u001b[0m 3ms/step - attrition_output_accuracy: 0.9597 - attrition_output_loss: 0.1154 - department_output_accuracy: 0.9577 - department_output_loss: 0.1654 - loss: 0.2809 - val_attrition_output_accuracy: 0.7585 - val_attrition_output_loss: 0.8379 - val_department_output_accuracy: 0.5932 - val_department_output_loss: 1.4268 - val_loss: 2.3547\n",
      "Epoch 21/100\n",
      "\u001b[1m30/30\u001b[0m \u001b[32m━━━━━━━━━━━━━━━━━━━━\u001b[0m\u001b[37m\u001b[0m \u001b[1m0s\u001b[0m 3ms/step - attrition_output_accuracy: 0.9662 - attrition_output_loss: 0.1053 - department_output_accuracy: 0.9650 - department_output_loss: 0.1641 - loss: 0.2689 - val_attrition_output_accuracy: 0.7712 - val_attrition_output_loss: 0.8957 - val_department_output_accuracy: 0.5847 - val_department_output_loss: 1.4288 - val_loss: 2.4140\n",
      "Epoch 22/100\n",
      "\u001b[1m30/30\u001b[0m \u001b[32m━━━━━━━━━━━━━━━━━━━━\u001b[0m\u001b[37m\u001b[0m \u001b[1m0s\u001b[0m 2ms/step - attrition_output_accuracy: 0.9594 - attrition_output_loss: 0.1050 - department_output_accuracy: 0.9608 - department_output_loss: 0.1578 - loss: 0.2629 - val_attrition_output_accuracy: 0.7458 - val_attrition_output_loss: 0.8913 - val_department_output_accuracy: 0.5932 - val_department_output_loss: 1.5466 - val_loss: 2.5291\n",
      "Epoch 23/100\n",
      "\u001b[1m30/30\u001b[0m \u001b[32m━━━━━━━━━━━━━━━━━━━━\u001b[0m\u001b[37m\u001b[0m \u001b[1m0s\u001b[0m 2ms/step - attrition_output_accuracy: 0.9657 - attrition_output_loss: 0.0981 - department_output_accuracy: 0.9741 - department_output_loss: 0.1428 - loss: 0.2411 - val_attrition_output_accuracy: 0.7542 - val_attrition_output_loss: 0.9057 - val_department_output_accuracy: 0.5805 - val_department_output_loss: 1.5100 - val_loss: 2.5027\n",
      "Epoch 24/100\n",
      "\u001b[1m30/30\u001b[0m \u001b[32m━━━━━━━━━━━━━━━━━━━━\u001b[0m\u001b[37m\u001b[0m \u001b[1m0s\u001b[0m 2ms/step - attrition_output_accuracy: 0.9825 - attrition_output_loss: 0.0828 - department_output_accuracy: 0.9840 - department_output_loss: 0.1195 - loss: 0.2022 - val_attrition_output_accuracy: 0.7415 - val_attrition_output_loss: 0.9460 - val_department_output_accuracy: 0.5551 - val_department_output_loss: 1.4952 - val_loss: 2.5461\n",
      "Epoch 25/100\n",
      "\u001b[1m30/30\u001b[0m \u001b[32m━━━━━━━━━━━━━━━━━━━━\u001b[0m\u001b[37m\u001b[0m \u001b[1m0s\u001b[0m 2ms/step - attrition_output_accuracy: 0.9793 - attrition_output_loss: 0.0787 - department_output_accuracy: 0.9796 - department_output_loss: 0.1195 - loss: 0.1981 - val_attrition_output_accuracy: 0.7458 - val_attrition_output_loss: 0.9063 - val_department_output_accuracy: 0.5805 - val_department_output_loss: 1.5334 - val_loss: 2.5343\n",
      "Epoch 26/100\n",
      "\u001b[1m30/30\u001b[0m \u001b[32m━━━━━━━━━━━━━━━━━━━━\u001b[0m\u001b[37m\u001b[0m \u001b[1m0s\u001b[0m 2ms/step - attrition_output_accuracy: 0.9708 - attrition_output_loss: 0.0891 - department_output_accuracy: 0.9768 - department_output_loss: 0.1179 - loss: 0.2072 - val_attrition_output_accuracy: 0.7542 - val_attrition_output_loss: 0.9883 - val_department_output_accuracy: 0.6017 - val_department_output_loss: 1.5499 - val_loss: 2.6297\n",
      "Epoch 27/100\n",
      "\u001b[1m30/30\u001b[0m \u001b[32m━━━━━━━━━━━━━━━━━━━━\u001b[0m\u001b[37m\u001b[0m \u001b[1m0s\u001b[0m 2ms/step - attrition_output_accuracy: 0.9797 - attrition_output_loss: 0.0885 - department_output_accuracy: 0.9776 - department_output_loss: 0.1218 - loss: 0.2100 - val_attrition_output_accuracy: 0.7288 - val_attrition_output_loss: 0.9375 - val_department_output_accuracy: 0.5720 - val_department_output_loss: 1.5432 - val_loss: 2.6001\n",
      "Epoch 28/100\n",
      "\u001b[1m30/30\u001b[0m \u001b[32m━━━━━━━━━━━━━━━━━━━━\u001b[0m\u001b[37m\u001b[0m \u001b[1m0s\u001b[0m 2ms/step - attrition_output_accuracy: 0.9650 - attrition_output_loss: 0.0839 - department_output_accuracy: 0.9862 - department_output_loss: 0.1056 - loss: 0.1889 - val_attrition_output_accuracy: 0.7458 - val_attrition_output_loss: 0.9405 - val_department_output_accuracy: 0.5593 - val_department_output_loss: 1.5934 - val_loss: 2.6381\n",
      "Epoch 29/100\n",
      "\u001b[1m30/30\u001b[0m \u001b[32m━━━━━━━━━━━━━━━━━━━━\u001b[0m\u001b[37m\u001b[0m \u001b[1m0s\u001b[0m 2ms/step - attrition_output_accuracy: 0.9768 - attrition_output_loss: 0.0766 - department_output_accuracy: 0.9846 - department_output_loss: 0.1100 - loss: 0.1863 - val_attrition_output_accuracy: 0.7585 - val_attrition_output_loss: 0.9518 - val_department_output_accuracy: 0.5720 - val_department_output_loss: 1.6082 - val_loss: 2.6748\n",
      "Epoch 30/100\n",
      "\u001b[1m30/30\u001b[0m \u001b[32m━━━━━━━━━━━━━━━━━━━━\u001b[0m\u001b[37m\u001b[0m \u001b[1m0s\u001b[0m 2ms/step - attrition_output_accuracy: 0.9750 - attrition_output_loss: 0.0911 - department_output_accuracy: 0.9771 - department_output_loss: 0.1086 - loss: 0.1998 - val_attrition_output_accuracy: 0.7373 - val_attrition_output_loss: 1.0635 - val_department_output_accuracy: 0.6017 - val_department_output_loss: 1.6173 - val_loss: 2.7993\n",
      "Epoch 31/100\n",
      "\u001b[1m30/30\u001b[0m \u001b[32m━━━━━━━━━━━━━━━━━━━━\u001b[0m\u001b[37m\u001b[0m \u001b[1m0s\u001b[0m 2ms/step - attrition_output_accuracy: 0.9796 - attrition_output_loss: 0.0712 - department_output_accuracy: 0.9781 - department_output_loss: 0.1134 - loss: 0.1847 - val_attrition_output_accuracy: 0.7458 - val_attrition_output_loss: 0.9812 - val_department_output_accuracy: 0.5508 - val_department_output_loss: 1.6659 - val_loss: 2.7496\n",
      "Epoch 32/100\n",
      "\u001b[1m30/30\u001b[0m \u001b[32m━━━━━━━━━━━━━━━━━━━━\u001b[0m\u001b[37m\u001b[0m \u001b[1m0s\u001b[0m 2ms/step - attrition_output_accuracy: 0.9789 - attrition_output_loss: 0.0659 - department_output_accuracy: 0.9901 - department_output_loss: 0.0918 - loss: 0.1577 - val_attrition_output_accuracy: 0.7458 - val_attrition_output_loss: 1.0504 - val_department_output_accuracy: 0.5508 - val_department_output_loss: 1.7007 - val_loss: 2.8698\n",
      "Epoch 33/100\n",
      "\u001b[1m30/30\u001b[0m \u001b[32m━━━━━━━━━━━━━━━━━━━━\u001b[0m\u001b[37m\u001b[0m \u001b[1m0s\u001b[0m 2ms/step - attrition_output_accuracy: 0.9815 - attrition_output_loss: 0.0560 - department_output_accuracy: 0.9890 - department_output_loss: 0.0863 - loss: 0.1423 - val_attrition_output_accuracy: 0.7373 - val_attrition_output_loss: 1.0445 - val_department_output_accuracy: 0.5636 - val_department_output_loss: 1.7415 - val_loss: 2.8974\n",
      "Epoch 34/100\n",
      "\u001b[1m30/30\u001b[0m \u001b[32m━━━━━━━━━━━━━━━━━━━━\u001b[0m\u001b[37m\u001b[0m \u001b[1m0s\u001b[0m 2ms/step - attrition_output_accuracy: 0.9848 - attrition_output_loss: 0.0511 - department_output_accuracy: 0.9896 - department_output_loss: 0.0906 - loss: 0.1416 - val_attrition_output_accuracy: 0.7373 - val_attrition_output_loss: 1.0654 - val_department_output_accuracy: 0.5890 - val_department_output_loss: 1.7752 - val_loss: 2.9589\n",
      "Epoch 35/100\n",
      "\u001b[1m30/30\u001b[0m \u001b[32m━━━━━━━━━━━━━━━━━━━━\u001b[0m\u001b[37m\u001b[0m \u001b[1m0s\u001b[0m 2ms/step - attrition_output_accuracy: 0.9904 - attrition_output_loss: 0.0499 - department_output_accuracy: 0.9841 - department_output_loss: 0.0783 - loss: 0.1282 - val_attrition_output_accuracy: 0.7585 - val_attrition_output_loss: 1.0909 - val_department_output_accuracy: 0.5636 - val_department_output_loss: 1.7459 - val_loss: 2.9665\n",
      "Epoch 36/100\n",
      "\u001b[1m30/30\u001b[0m \u001b[32m━━━━━━━━━━━━━━━━━━━━\u001b[0m\u001b[37m\u001b[0m \u001b[1m0s\u001b[0m 2ms/step - attrition_output_accuracy: 0.9863 - attrition_output_loss: 0.0483 - department_output_accuracy: 0.9916 - department_output_loss: 0.0705 - loss: 0.1186 - val_attrition_output_accuracy: 0.7542 - val_attrition_output_loss: 1.0884 - val_department_output_accuracy: 0.5297 - val_department_output_loss: 1.8386 - val_loss: 3.0466\n",
      "Epoch 37/100\n",
      "\u001b[1m30/30\u001b[0m \u001b[32m━━━━━━━━━━━━━━━━━━━━\u001b[0m\u001b[37m\u001b[0m \u001b[1m0s\u001b[0m 2ms/step - attrition_output_accuracy: 0.9809 - attrition_output_loss: 0.0556 - department_output_accuracy: 0.9896 - department_output_loss: 0.0738 - loss: 0.1293 - val_attrition_output_accuracy: 0.7246 - val_attrition_output_loss: 1.1142 - val_department_output_accuracy: 0.5720 - val_department_output_loss: 1.8306 - val_loss: 3.0739\n",
      "Epoch 38/100\n",
      "\u001b[1m30/30\u001b[0m \u001b[32m━━━━━━━━━━━━━━━━━━━━\u001b[0m\u001b[37m\u001b[0m \u001b[1m0s\u001b[0m 2ms/step - attrition_output_accuracy: 0.9887 - attrition_output_loss: 0.0504 - department_output_accuracy: 0.9869 - department_output_loss: 0.0718 - loss: 0.1221 - val_attrition_output_accuracy: 0.7542 - val_attrition_output_loss: 1.0973 - val_department_output_accuracy: 0.5593 - val_department_output_loss: 1.8752 - val_loss: 3.0971\n",
      "Epoch 39/100\n",
      "\u001b[1m30/30\u001b[0m \u001b[32m━━━━━━━━━━━━━━━━━━━━\u001b[0m\u001b[37m\u001b[0m \u001b[1m0s\u001b[0m 2ms/step - attrition_output_accuracy: 0.9940 - attrition_output_loss: 0.0443 - department_output_accuracy: 0.9858 - department_output_loss: 0.0697 - loss: 0.1141 - val_attrition_output_accuracy: 0.7415 - val_attrition_output_loss: 1.1413 - val_department_output_accuracy: 0.6059 - val_department_output_loss: 2.0240 - val_loss: 3.2760\n",
      "Epoch 40/100\n",
      "\u001b[1m30/30\u001b[0m \u001b[32m━━━━━━━━━━━━━━━━━━━━\u001b[0m\u001b[37m\u001b[0m \u001b[1m0s\u001b[0m 2ms/step - attrition_output_accuracy: 0.9909 - attrition_output_loss: 0.0448 - department_output_accuracy: 0.9787 - department_output_loss: 0.0906 - loss: 0.1354 - val_attrition_output_accuracy: 0.7627 - val_attrition_output_loss: 1.2155 - val_department_output_accuracy: 0.5847 - val_department_output_loss: 2.0594 - val_loss: 3.3714\n",
      "Epoch 41/100\n",
      "\u001b[1m30/30\u001b[0m \u001b[32m━━━━━━━━━━━━━━━━━━━━\u001b[0m\u001b[37m\u001b[0m \u001b[1m0s\u001b[0m 2ms/step - attrition_output_accuracy: 0.9904 - attrition_output_loss: 0.0424 - department_output_accuracy: 0.9762 - department_output_loss: 0.0833 - loss: 0.1258 - val_attrition_output_accuracy: 0.7203 - val_attrition_output_loss: 1.1649 - val_department_output_accuracy: 0.5932 - val_department_output_loss: 2.0855 - val_loss: 3.3511\n",
      "Epoch 42/100\n",
      "\u001b[1m30/30\u001b[0m \u001b[32m━━━━━━━━━━━━━━━━━━━━\u001b[0m\u001b[37m\u001b[0m \u001b[1m0s\u001b[0m 2ms/step - attrition_output_accuracy: 0.9824 - attrition_output_loss: 0.0521 - department_output_accuracy: 0.9952 - department_output_loss: 0.0634 - loss: 0.1156 - val_attrition_output_accuracy: 0.7415 - val_attrition_output_loss: 1.1711 - val_department_output_accuracy: 0.5805 - val_department_output_loss: 2.0177 - val_loss: 3.3105\n",
      "Epoch 43/100\n",
      "\u001b[1m30/30\u001b[0m \u001b[32m━━━━━━━━━━━━━━━━━━━━\u001b[0m\u001b[37m\u001b[0m \u001b[1m0s\u001b[0m 2ms/step - attrition_output_accuracy: 0.9923 - attrition_output_loss: 0.0345 - department_output_accuracy: 0.9940 - department_output_loss: 0.0530 - loss: 0.0875 - val_attrition_output_accuracy: 0.7585 - val_attrition_output_loss: 1.2333 - val_department_output_accuracy: 0.5508 - val_department_output_loss: 1.9897 - val_loss: 3.3645\n",
      "Epoch 44/100\n",
      "\u001b[1m30/30\u001b[0m \u001b[32m━━━━━━━━━━━━━━━━━━━━\u001b[0m\u001b[37m\u001b[0m \u001b[1m0s\u001b[0m 2ms/step - attrition_output_accuracy: 0.9894 - attrition_output_loss: 0.0394 - department_output_accuracy: 0.9970 - department_output_loss: 0.0505 - loss: 0.0899 - val_attrition_output_accuracy: 0.7627 - val_attrition_output_loss: 1.1983 - val_department_output_accuracy: 0.5508 - val_department_output_loss: 2.0047 - val_loss: 3.3356\n",
      "Epoch 45/100\n",
      "\u001b[1m30/30\u001b[0m \u001b[32m━━━━━━━━━━━━━━━━━━━━\u001b[0m\u001b[37m\u001b[0m \u001b[1m0s\u001b[0m 2ms/step - attrition_output_accuracy: 0.9967 - attrition_output_loss: 0.0287 - department_output_accuracy: 0.9929 - department_output_loss: 0.0558 - loss: 0.0845 - val_attrition_output_accuracy: 0.7585 - val_attrition_output_loss: 1.2289 - val_department_output_accuracy: 0.5593 - val_department_output_loss: 2.0161 - val_loss: 3.3923\n",
      "Epoch 46/100\n",
      "\u001b[1m30/30\u001b[0m \u001b[32m━━━━━━━━━━━━━━━━━━━━\u001b[0m\u001b[37m\u001b[0m \u001b[1m0s\u001b[0m 3ms/step - attrition_output_accuracy: 0.9953 - attrition_output_loss: 0.0339 - department_output_accuracy: 0.9923 - department_output_loss: 0.0482 - loss: 0.0822 - val_attrition_output_accuracy: 0.7246 - val_attrition_output_loss: 1.2486 - val_department_output_accuracy: 0.5636 - val_department_output_loss: 1.9810 - val_loss: 3.3708\n",
      "Epoch 47/100\n",
      "\u001b[1m30/30\u001b[0m \u001b[32m━━━━━━━━━━━━━━━━━━━━\u001b[0m\u001b[37m\u001b[0m \u001b[1m0s\u001b[0m 2ms/step - attrition_output_accuracy: 0.9906 - attrition_output_loss: 0.0304 - department_output_accuracy: 0.9966 - department_output_loss: 0.0468 - loss: 0.0772 - val_attrition_output_accuracy: 0.7458 - val_attrition_output_loss: 1.2425 - val_department_output_accuracy: 0.5508 - val_department_output_loss: 2.0794 - val_loss: 3.4570\n",
      "Epoch 48/100\n",
      "\u001b[1m30/30\u001b[0m \u001b[32m━━━━━━━━━━━━━━━━━━━━\u001b[0m\u001b[37m\u001b[0m \u001b[1m0s\u001b[0m 2ms/step - attrition_output_accuracy: 0.9989 - attrition_output_loss: 0.0263 - department_output_accuracy: 0.9963 - department_output_loss: 0.0396 - loss: 0.0658 - val_attrition_output_accuracy: 0.7246 - val_attrition_output_loss: 1.2750 - val_department_output_accuracy: 0.5381 - val_department_output_loss: 2.1067 - val_loss: 3.5325\n",
      "Epoch 49/100\n",
      "\u001b[1m30/30\u001b[0m \u001b[32m━━━━━━━━━━━━━━━━━━━━\u001b[0m\u001b[37m\u001b[0m \u001b[1m0s\u001b[0m 2ms/step - attrition_output_accuracy: 0.9899 - attrition_output_loss: 0.0372 - department_output_accuracy: 0.9953 - department_output_loss: 0.0419 - loss: 0.0792 - val_attrition_output_accuracy: 0.7500 - val_attrition_output_loss: 1.3389 - val_department_output_accuracy: 0.5466 - val_department_output_loss: 2.1353 - val_loss: 3.6204\n",
      "Epoch 50/100\n",
      "\u001b[1m30/30\u001b[0m \u001b[32m━━━━━━━━━━━━━━━━━━━━\u001b[0m\u001b[37m\u001b[0m \u001b[1m0s\u001b[0m 2ms/step - attrition_output_accuracy: 0.9947 - attrition_output_loss: 0.0282 - department_output_accuracy: 0.9964 - department_output_loss: 0.0486 - loss: 0.0768 - val_attrition_output_accuracy: 0.7500 - val_attrition_output_loss: 1.3115 - val_department_output_accuracy: 0.5297 - val_department_output_loss: 2.1615 - val_loss: 3.6149\n",
      "Epoch 51/100\n",
      "\u001b[1m30/30\u001b[0m \u001b[32m━━━━━━━━━━━━━━━━━━━━\u001b[0m\u001b[37m\u001b[0m \u001b[1m0s\u001b[0m 2ms/step - attrition_output_accuracy: 0.9899 - attrition_output_loss: 0.0386 - department_output_accuracy: 0.9946 - department_output_loss: 0.0410 - loss: 0.0796 - val_attrition_output_accuracy: 0.7585 - val_attrition_output_loss: 1.3522 - val_department_output_accuracy: 0.5678 - val_department_output_loss: 2.2505 - val_loss: 3.7509\n",
      "Epoch 52/100\n",
      "\u001b[1m30/30\u001b[0m \u001b[32m━━━━━━━━━━━━━━━━━━━━\u001b[0m\u001b[37m\u001b[0m \u001b[1m0s\u001b[0m 2ms/step - attrition_output_accuracy: 0.9963 - attrition_output_loss: 0.0244 - department_output_accuracy: 0.9930 - department_output_loss: 0.0448 - loss: 0.0693 - val_attrition_output_accuracy: 0.7585 - val_attrition_output_loss: 1.3324 - val_department_output_accuracy: 0.5508 - val_department_output_loss: 2.2405 - val_loss: 3.7137\n",
      "Epoch 53/100\n",
      "\u001b[1m30/30\u001b[0m \u001b[32m━━━━━━━━━━━━━━━━━━━━\u001b[0m\u001b[37m\u001b[0m \u001b[1m0s\u001b[0m 2ms/step - attrition_output_accuracy: 0.9933 - attrition_output_loss: 0.0285 - department_output_accuracy: 0.9900 - department_output_loss: 0.0493 - loss: 0.0778 - val_attrition_output_accuracy: 0.7627 - val_attrition_output_loss: 1.4693 - val_department_output_accuracy: 0.5720 - val_department_output_loss: 2.3103 - val_loss: 3.8932\n",
      "Epoch 54/100\n",
      "\u001b[1m30/30\u001b[0m \u001b[32m━━━━━━━━━━━━━━━━━━━━\u001b[0m\u001b[37m\u001b[0m \u001b[1m0s\u001b[0m 2ms/step - attrition_output_accuracy: 0.9928 - attrition_output_loss: 0.0388 - department_output_accuracy: 0.9953 - department_output_loss: 0.0399 - loss: 0.0787 - val_attrition_output_accuracy: 0.7627 - val_attrition_output_loss: 1.4134 - val_department_output_accuracy: 0.5636 - val_department_output_loss: 2.2362 - val_loss: 3.8026\n",
      "Epoch 55/100\n",
      "\u001b[1m30/30\u001b[0m \u001b[32m━━━━━━━━━━━━━━━━━━━━\u001b[0m\u001b[37m\u001b[0m \u001b[1m0s\u001b[0m 2ms/step - attrition_output_accuracy: 0.9961 - attrition_output_loss: 0.0283 - department_output_accuracy: 0.9960 - department_output_loss: 0.0360 - loss: 0.0643 - val_attrition_output_accuracy: 0.7458 - val_attrition_output_loss: 1.3924 - val_department_output_accuracy: 0.5466 - val_department_output_loss: 2.3121 - val_loss: 3.8469\n",
      "Epoch 56/100\n",
      "\u001b[1m30/30\u001b[0m \u001b[32m━━━━━━━━━━━━━━━━━━━━\u001b[0m\u001b[37m\u001b[0m \u001b[1m0s\u001b[0m 2ms/step - attrition_output_accuracy: 0.9872 - attrition_output_loss: 0.0411 - department_output_accuracy: 0.9956 - department_output_loss: 0.0301 - loss: 0.0710 - val_attrition_output_accuracy: 0.7458 - val_attrition_output_loss: 1.5185 - val_department_output_accuracy: 0.5381 - val_department_output_loss: 2.2312 - val_loss: 3.9153\n",
      "Epoch 57/100\n",
      "\u001b[1m30/30\u001b[0m \u001b[32m━━━━━━━━━━━━━━━━━━━━\u001b[0m\u001b[37m\u001b[0m \u001b[1m0s\u001b[0m 3ms/step - attrition_output_accuracy: 0.9925 - attrition_output_loss: 0.0252 - department_output_accuracy: 0.9955 - department_output_loss: 0.0350 - loss: 0.0602 - val_attrition_output_accuracy: 0.7669 - val_attrition_output_loss: 1.3661 - val_department_output_accuracy: 0.5424 - val_department_output_loss: 2.2613 - val_loss: 3.8041\n",
      "Epoch 58/100\n",
      "\u001b[1m30/30\u001b[0m \u001b[32m━━━━━━━━━━━━━━━━━━━━\u001b[0m\u001b[37m\u001b[0m \u001b[1m0s\u001b[0m 2ms/step - attrition_output_accuracy: 0.9963 - attrition_output_loss: 0.0212 - department_output_accuracy: 0.9929 - department_output_loss: 0.0499 - loss: 0.0710 - val_attrition_output_accuracy: 0.7585 - val_attrition_output_loss: 1.4444 - val_department_output_accuracy: 0.5466 - val_department_output_loss: 2.3878 - val_loss: 3.9650\n",
      "Epoch 59/100\n",
      "\u001b[1m30/30\u001b[0m \u001b[32m━━━━━━━━━━━━━━━━━━━━\u001b[0m\u001b[37m\u001b[0m \u001b[1m0s\u001b[0m 3ms/step - attrition_output_accuracy: 0.9955 - attrition_output_loss: 0.0203 - department_output_accuracy: 0.9837 - department_output_loss: 0.0663 - loss: 0.0866 - val_attrition_output_accuracy: 0.7712 - val_attrition_output_loss: 1.4685 - val_department_output_accuracy: 0.5763 - val_department_output_loss: 2.3828 - val_loss: 4.0339\n",
      "Epoch 60/100\n",
      "\u001b[1m30/30\u001b[0m \u001b[32m━━━━━━━━━━━━━━━━━━━━\u001b[0m\u001b[37m\u001b[0m \u001b[1m0s\u001b[0m 2ms/step - attrition_output_accuracy: 0.9945 - attrition_output_loss: 0.0254 - department_output_accuracy: 0.9832 - department_output_loss: 0.0661 - loss: 0.0915 - val_attrition_output_accuracy: 0.7669 - val_attrition_output_loss: 1.3950 - val_department_output_accuracy: 0.5508 - val_department_output_loss: 2.3388 - val_loss: 3.8895\n",
      "Epoch 61/100\n",
      "\u001b[1m30/30\u001b[0m \u001b[32m━━━━━━━━━━━━━━━━━━━━\u001b[0m\u001b[37m\u001b[0m \u001b[1m0s\u001b[0m 2ms/step - attrition_output_accuracy: 0.9920 - attrition_output_loss: 0.0347 - department_output_accuracy: 0.9941 - department_output_loss: 0.0416 - loss: 0.0763 - val_attrition_output_accuracy: 0.7034 - val_attrition_output_loss: 1.4963 - val_department_output_accuracy: 0.5381 - val_department_output_loss: 2.4097 - val_loss: 4.0590\n",
      "Epoch 62/100\n",
      "\u001b[1m30/30\u001b[0m \u001b[32m━━━━━━━━━━━━━━━━━━━━\u001b[0m\u001b[37m\u001b[0m \u001b[1m0s\u001b[0m 2ms/step - attrition_output_accuracy: 0.9883 - attrition_output_loss: 0.0502 - department_output_accuracy: 0.9923 - department_output_loss: 0.0325 - loss: 0.0825 - val_attrition_output_accuracy: 0.7754 - val_attrition_output_loss: 1.4368 - val_department_output_accuracy: 0.5636 - val_department_output_loss: 2.5033 - val_loss: 4.0843\n",
      "Epoch 63/100\n",
      "\u001b[1m30/30\u001b[0m \u001b[32m━━━━━━━━━━━━━━━━━━━━\u001b[0m\u001b[37m\u001b[0m \u001b[1m0s\u001b[0m 2ms/step - attrition_output_accuracy: 0.9886 - attrition_output_loss: 0.0418 - department_output_accuracy: 0.9990 - department_output_loss: 0.0292 - loss: 0.0710 - val_attrition_output_accuracy: 0.7500 - val_attrition_output_loss: 1.4912 - val_department_output_accuracy: 0.5339 - val_department_output_loss: 2.4546 - val_loss: 4.0897\n",
      "Epoch 64/100\n",
      "\u001b[1m30/30\u001b[0m \u001b[32m━━━━━━━━━━━━━━━━━━━━\u001b[0m\u001b[37m\u001b[0m \u001b[1m0s\u001b[0m 2ms/step - attrition_output_accuracy: 0.9879 - attrition_output_loss: 0.0335 - department_output_accuracy: 0.9961 - department_output_loss: 0.0282 - loss: 0.0617 - val_attrition_output_accuracy: 0.7415 - val_attrition_output_loss: 1.4538 - val_department_output_accuracy: 0.5508 - val_department_output_loss: 2.4363 - val_loss: 4.0641\n",
      "Epoch 65/100\n",
      "\u001b[1m30/30\u001b[0m \u001b[32m━━━━━━━━━━━━━━━━━━━━\u001b[0m\u001b[37m\u001b[0m \u001b[1m0s\u001b[0m 2ms/step - attrition_output_accuracy: 0.9907 - attrition_output_loss: 0.0246 - department_output_accuracy: 0.9985 - department_output_loss: 0.0238 - loss: 0.0484 - val_attrition_output_accuracy: 0.7585 - val_attrition_output_loss: 1.4612 - val_department_output_accuracy: 0.5593 - val_department_output_loss: 2.4285 - val_loss: 4.0543\n",
      "Epoch 66/100\n",
      "\u001b[1m30/30\u001b[0m \u001b[32m━━━━━━━━━━━━━━━━━━━━\u001b[0m\u001b[37m\u001b[0m \u001b[1m0s\u001b[0m 3ms/step - attrition_output_accuracy: 0.9994 - attrition_output_loss: 0.0168 - department_output_accuracy: 0.9984 - department_output_loss: 0.0247 - loss: 0.0415 - val_attrition_output_accuracy: 0.7627 - val_attrition_output_loss: 1.5781 - val_department_output_accuracy: 0.5593 - val_department_output_loss: 2.5912 - val_loss: 4.3263\n",
      "Epoch 67/100\n",
      "\u001b[1m30/30\u001b[0m \u001b[32m━━━━━━━━━━━━━━━━━━━━\u001b[0m\u001b[37m\u001b[0m \u001b[1m0s\u001b[0m 2ms/step - attrition_output_accuracy: 0.9983 - attrition_output_loss: 0.0163 - department_output_accuracy: 0.9962 - department_output_loss: 0.0232 - loss: 0.0395 - val_attrition_output_accuracy: 0.7754 - val_attrition_output_loss: 1.5944 - val_department_output_accuracy: 0.5381 - val_department_output_loss: 2.5593 - val_loss: 4.3153\n",
      "Epoch 68/100\n",
      "\u001b[1m30/30\u001b[0m \u001b[32m━━━━━━━━━━━━━━━━━━━━\u001b[0m\u001b[37m\u001b[0m \u001b[1m0s\u001b[0m 3ms/step - attrition_output_accuracy: 0.9986 - attrition_output_loss: 0.0120 - department_output_accuracy: 0.9995 - department_output_loss: 0.0177 - loss: 0.0298 - val_attrition_output_accuracy: 0.7585 - val_attrition_output_loss: 1.5423 - val_department_output_accuracy: 0.5466 - val_department_output_loss: 2.5798 - val_loss: 4.2966\n",
      "Epoch 69/100\n",
      "\u001b[1m30/30\u001b[0m \u001b[32m━━━━━━━━━━━━━━━━━━━━\u001b[0m\u001b[37m\u001b[0m \u001b[1m0s\u001b[0m 2ms/step - attrition_output_accuracy: 0.9986 - attrition_output_loss: 0.0124 - department_output_accuracy: 0.9988 - department_output_loss: 0.0186 - loss: 0.0310 - val_attrition_output_accuracy: 0.7754 - val_attrition_output_loss: 1.6004 - val_department_output_accuracy: 0.5508 - val_department_output_loss: 2.6617 - val_loss: 4.4324\n",
      "Epoch 70/100\n",
      "\u001b[1m30/30\u001b[0m \u001b[32m━━━━━━━━━━━━━━━━━━━━\u001b[0m\u001b[37m\u001b[0m \u001b[1m0s\u001b[0m 2ms/step - attrition_output_accuracy: 0.9968 - attrition_output_loss: 0.0151 - department_output_accuracy: 0.9989 - department_output_loss: 0.0278 - loss: 0.0429 - val_attrition_output_accuracy: 0.7415 - val_attrition_output_loss: 1.6147 - val_department_output_accuracy: 0.5678 - val_department_output_loss: 2.5204 - val_loss: 4.3415\n",
      "Epoch 71/100\n",
      "\u001b[1m30/30\u001b[0m \u001b[32m━━━━━━━━━━━━━━━━━━━━\u001b[0m\u001b[37m\u001b[0m \u001b[1m0s\u001b[0m 2ms/step - attrition_output_accuracy: 0.9976 - attrition_output_loss: 0.0148 - department_output_accuracy: 0.9998 - department_output_loss: 0.0246 - loss: 0.0393 - val_attrition_output_accuracy: 0.7669 - val_attrition_output_loss: 1.6701 - val_department_output_accuracy: 0.5551 - val_department_output_loss: 2.5660 - val_loss: 4.4166\n",
      "Epoch 72/100\n",
      "\u001b[1m30/30\u001b[0m \u001b[32m━━━━━━━━━━━━━━━━━━━━\u001b[0m\u001b[37m\u001b[0m \u001b[1m0s\u001b[0m 2ms/step - attrition_output_accuracy: 0.9947 - attrition_output_loss: 0.0204 - department_output_accuracy: 0.9993 - department_output_loss: 0.0186 - loss: 0.0391 - val_attrition_output_accuracy: 0.7542 - val_attrition_output_loss: 1.6153 - val_department_output_accuracy: 0.5636 - val_department_output_loss: 2.7393 - val_loss: 4.5131\n",
      "Epoch 73/100\n",
      "\u001b[1m30/30\u001b[0m \u001b[32m━━━━━━━━━━━━━━━━━━━━\u001b[0m\u001b[37m\u001b[0m \u001b[1m0s\u001b[0m 2ms/step - attrition_output_accuracy: 0.9981 - attrition_output_loss: 0.0142 - department_output_accuracy: 0.9981 - department_output_loss: 0.0193 - loss: 0.0335 - val_attrition_output_accuracy: 0.7627 - val_attrition_output_loss: 1.6286 - val_department_output_accuracy: 0.5466 - val_department_output_loss: 2.7389 - val_loss: 4.5168\n",
      "Epoch 74/100\n",
      "\u001b[1m30/30\u001b[0m \u001b[32m━━━━━━━━━━━━━━━━━━━━\u001b[0m\u001b[37m\u001b[0m \u001b[1m0s\u001b[0m 2ms/step - attrition_output_accuracy: 0.9991 - attrition_output_loss: 0.0084 - department_output_accuracy: 1.0000 - department_output_loss: 0.0163 - loss: 0.0247 - val_attrition_output_accuracy: 0.7500 - val_attrition_output_loss: 1.6853 - val_department_output_accuracy: 0.5678 - val_department_output_loss: 2.6643 - val_loss: 4.5293\n",
      "Epoch 75/100\n",
      "\u001b[1m30/30\u001b[0m \u001b[32m━━━━━━━━━━━━━━━━━━━━\u001b[0m\u001b[37m\u001b[0m \u001b[1m0s\u001b[0m 2ms/step - attrition_output_accuracy: 1.0000 - attrition_output_loss: 0.0094 - department_output_accuracy: 0.9997 - department_output_loss: 0.0205 - loss: 0.0299 - val_attrition_output_accuracy: 0.7669 - val_attrition_output_loss: 1.6672 - val_department_output_accuracy: 0.5466 - val_department_output_loss: 2.6837 - val_loss: 4.5320\n",
      "Epoch 76/100\n",
      "\u001b[1m30/30\u001b[0m \u001b[32m━━━━━━━━━━━━━━━━━━━━\u001b[0m\u001b[37m\u001b[0m \u001b[1m0s\u001b[0m 2ms/step - attrition_output_accuracy: 0.9992 - attrition_output_loss: 0.0082 - department_output_accuracy: 1.0000 - department_output_loss: 0.0173 - loss: 0.0255 - val_attrition_output_accuracy: 0.7669 - val_attrition_output_loss: 1.6857 - val_department_output_accuracy: 0.5424 - val_department_output_loss: 2.7019 - val_loss: 4.5716\n",
      "Epoch 77/100\n",
      "\u001b[1m30/30\u001b[0m \u001b[32m━━━━━━━━━━━━━━━━━━━━\u001b[0m\u001b[37m\u001b[0m \u001b[1m0s\u001b[0m 2ms/step - attrition_output_accuracy: 1.0000 - attrition_output_loss: 0.0090 - department_output_accuracy: 1.0000 - department_output_loss: 0.0134 - loss: 0.0225 - val_attrition_output_accuracy: 0.7712 - val_attrition_output_loss: 1.7293 - val_department_output_accuracy: 0.5508 - val_department_output_loss: 2.7637 - val_loss: 4.6704\n",
      "Epoch 78/100\n",
      "\u001b[1m30/30\u001b[0m \u001b[32m━━━━━━━━━━━━━━━━━━━━\u001b[0m\u001b[37m\u001b[0m \u001b[1m0s\u001b[0m 2ms/step - attrition_output_accuracy: 1.0000 - attrition_output_loss: 0.0090 - department_output_accuracy: 0.9995 - department_output_loss: 0.0150 - loss: 0.0240 - val_attrition_output_accuracy: 0.7754 - val_attrition_output_loss: 1.7082 - val_department_output_accuracy: 0.5593 - val_department_output_loss: 2.8328 - val_loss: 4.7151\n",
      "Epoch 79/100\n",
      "\u001b[1m30/30\u001b[0m \u001b[32m━━━━━━━━━━━━━━━━━━━━\u001b[0m\u001b[37m\u001b[0m \u001b[1m0s\u001b[0m 2ms/step - attrition_output_accuracy: 0.9998 - attrition_output_loss: 0.0090 - department_output_accuracy: 1.0000 - department_output_loss: 0.0136 - loss: 0.0226 - val_attrition_output_accuracy: 0.7246 - val_attrition_output_loss: 1.6735 - val_department_output_accuracy: 0.5551 - val_department_output_loss: 2.8300 - val_loss: 4.6830\n",
      "Epoch 80/100\n",
      "\u001b[1m30/30\u001b[0m \u001b[32m━━━━━━━━━━━━━━━━━━━━\u001b[0m\u001b[37m\u001b[0m \u001b[1m0s\u001b[0m 2ms/step - attrition_output_accuracy: 0.9969 - attrition_output_loss: 0.0123 - department_output_accuracy: 0.9977 - department_output_loss: 0.0141 - loss: 0.0264 - val_attrition_output_accuracy: 0.7500 - val_attrition_output_loss: 1.6685 - val_department_output_accuracy: 0.5339 - val_department_output_loss: 2.7462 - val_loss: 4.6067\n",
      "Epoch 81/100\n",
      "\u001b[1m30/30\u001b[0m \u001b[32m━━━━━━━━━━━━━━━━━━━━\u001b[0m\u001b[37m\u001b[0m \u001b[1m0s\u001b[0m 2ms/step - attrition_output_accuracy: 1.0000 - attrition_output_loss: 0.0084 - department_output_accuracy: 1.0000 - department_output_loss: 0.0105 - loss: 0.0189 - val_attrition_output_accuracy: 0.7627 - val_attrition_output_loss: 1.6926 - val_department_output_accuracy: 0.5466 - val_department_output_loss: 2.8733 - val_loss: 4.7484\n",
      "Epoch 82/100\n",
      "\u001b[1m30/30\u001b[0m \u001b[32m━━━━━━━━━━━━━━━━━━━━\u001b[0m\u001b[37m\u001b[0m \u001b[1m0s\u001b[0m 2ms/step - attrition_output_accuracy: 1.0000 - attrition_output_loss: 0.0085 - department_output_accuracy: 1.0000 - department_output_loss: 0.0111 - loss: 0.0196 - val_attrition_output_accuracy: 0.7627 - val_attrition_output_loss: 1.8634 - val_department_output_accuracy: 0.5424 - val_department_output_loss: 2.8775 - val_loss: 4.9302\n",
      "Epoch 83/100\n",
      "\u001b[1m30/30\u001b[0m \u001b[32m━━━━━━━━━━━━━━━━━━━━\u001b[0m\u001b[37m\u001b[0m \u001b[1m0s\u001b[0m 2ms/step - attrition_output_accuracy: 0.9976 - attrition_output_loss: 0.0095 - department_output_accuracy: 0.9998 - department_output_loss: 0.0123 - loss: 0.0219 - val_attrition_output_accuracy: 0.7542 - val_attrition_output_loss: 1.8075 - val_department_output_accuracy: 0.5424 - val_department_output_loss: 2.9267 - val_loss: 4.9131\n",
      "Epoch 84/100\n",
      "\u001b[1m30/30\u001b[0m \u001b[32m━━━━━━━━━━━━━━━━━━━━\u001b[0m\u001b[37m\u001b[0m \u001b[1m0s\u001b[0m 2ms/step - attrition_output_accuracy: 0.9990 - attrition_output_loss: 0.0077 - department_output_accuracy: 1.0000 - department_output_loss: 0.0143 - loss: 0.0220 - val_attrition_output_accuracy: 0.7585 - val_attrition_output_loss: 1.8075 - val_department_output_accuracy: 0.5297 - val_department_output_loss: 2.9799 - val_loss: 4.9549\n",
      "Epoch 85/100\n",
      "\u001b[1m30/30\u001b[0m \u001b[32m━━━━━━━━━━━━━━━━━━━━\u001b[0m\u001b[37m\u001b[0m \u001b[1m0s\u001b[0m 2ms/step - attrition_output_accuracy: 1.0000 - attrition_output_loss: 0.0072 - department_output_accuracy: 0.9994 - department_output_loss: 0.0103 - loss: 0.0175 - val_attrition_output_accuracy: 0.7627 - val_attrition_output_loss: 1.7768 - val_department_output_accuracy: 0.5593 - val_department_output_loss: 2.8644 - val_loss: 4.8365\n",
      "Epoch 86/100\n",
      "\u001b[1m30/30\u001b[0m \u001b[32m━━━━━━━━━━━━━━━━━━━━\u001b[0m\u001b[37m\u001b[0m \u001b[1m0s\u001b[0m 2ms/step - attrition_output_accuracy: 0.9997 - attrition_output_loss: 0.0074 - department_output_accuracy: 1.0000 - department_output_loss: 0.0101 - loss: 0.0175 - val_attrition_output_accuracy: 0.7331 - val_attrition_output_loss: 1.7856 - val_department_output_accuracy: 0.5720 - val_department_output_loss: 2.9299 - val_loss: 4.9168\n",
      "Epoch 87/100\n",
      "\u001b[1m30/30\u001b[0m \u001b[32m━━━━━━━━━━━━━━━━━━━━\u001b[0m\u001b[37m\u001b[0m \u001b[1m0s\u001b[0m 2ms/step - attrition_output_accuracy: 0.9975 - attrition_output_loss: 0.0094 - department_output_accuracy: 1.0000 - department_output_loss: 0.0101 - loss: 0.0195 - val_attrition_output_accuracy: 0.7627 - val_attrition_output_loss: 1.8531 - val_department_output_accuracy: 0.5593 - val_department_output_loss: 2.9501 - val_loss: 4.9953\n",
      "Epoch 88/100\n",
      "\u001b[1m30/30\u001b[0m \u001b[32m━━━━━━━━━━━━━━━━━━━━\u001b[0m\u001b[37m\u001b[0m \u001b[1m0s\u001b[0m 2ms/step - attrition_output_accuracy: 1.0000 - attrition_output_loss: 0.0070 - department_output_accuracy: 1.0000 - department_output_loss: 0.0088 - loss: 0.0158 - val_attrition_output_accuracy: 0.7585 - val_attrition_output_loss: 1.8503 - val_department_output_accuracy: 0.5593 - val_department_output_loss: 2.9614 - val_loss: 5.0108\n",
      "Epoch 89/100\n",
      "\u001b[1m30/30\u001b[0m \u001b[32m━━━━━━━━━━━━━━━━━━━━\u001b[0m\u001b[37m\u001b[0m \u001b[1m0s\u001b[0m 2ms/step - attrition_output_accuracy: 0.9997 - attrition_output_loss: 0.0062 - department_output_accuracy: 1.0000 - department_output_loss: 0.0110 - loss: 0.0172 - val_attrition_output_accuracy: 0.7585 - val_attrition_output_loss: 1.8557 - val_department_output_accuracy: 0.5508 - val_department_output_loss: 2.9007 - val_loss: 4.9705\n",
      "Epoch 90/100\n",
      "\u001b[1m30/30\u001b[0m \u001b[32m━━━━━━━━━━━━━━━━━━━━\u001b[0m\u001b[37m\u001b[0m \u001b[1m0s\u001b[0m 2ms/step - attrition_output_accuracy: 0.9998 - attrition_output_loss: 0.0052 - department_output_accuracy: 1.0000 - department_output_loss: 0.0085 - loss: 0.0137 - val_attrition_output_accuracy: 0.7754 - val_attrition_output_loss: 1.9904 - val_department_output_accuracy: 0.5593 - val_department_output_loss: 2.9704 - val_loss: 5.1712\n",
      "Epoch 91/100\n",
      "\u001b[1m30/30\u001b[0m \u001b[32m━━━━━━━━━━━━━━━━━━━━\u001b[0m\u001b[37m\u001b[0m \u001b[1m0s\u001b[0m 2ms/step - attrition_output_accuracy: 0.9985 - attrition_output_loss: 0.0160 - department_output_accuracy: 1.0000 - department_output_loss: 0.0073 - loss: 0.0233 - val_attrition_output_accuracy: 0.7288 - val_attrition_output_loss: 1.8138 - val_department_output_accuracy: 0.5508 - val_department_output_loss: 3.0090 - val_loss: 5.0235\n",
      "Epoch 92/100\n",
      "\u001b[1m30/30\u001b[0m \u001b[32m━━━━━━━━━━━━━━━━━━━━\u001b[0m\u001b[37m\u001b[0m \u001b[1m0s\u001b[0m 2ms/step - attrition_output_accuracy: 0.9996 - attrition_output_loss: 0.0078 - department_output_accuracy: 1.0000 - department_output_loss: 0.0079 - loss: 0.0157 - val_attrition_output_accuracy: 0.7627 - val_attrition_output_loss: 1.9172 - val_department_output_accuracy: 0.5466 - val_department_output_loss: 3.0774 - val_loss: 5.1770\n",
      "Epoch 93/100\n",
      "\u001b[1m30/30\u001b[0m \u001b[32m━━━━━━━━━━━━━━━━━━━━\u001b[0m\u001b[37m\u001b[0m \u001b[1m0s\u001b[0m 2ms/step - attrition_output_accuracy: 0.9971 - attrition_output_loss: 0.0082 - department_output_accuracy: 1.0000 - department_output_loss: 0.0095 - loss: 0.0178 - val_attrition_output_accuracy: 0.7627 - val_attrition_output_loss: 1.8229 - val_department_output_accuracy: 0.5381 - val_department_output_loss: 3.0547 - val_loss: 5.0835\n",
      "Epoch 94/100\n",
      "\u001b[1m30/30\u001b[0m \u001b[32m━━━━━━━━━━━━━━━━━━━━\u001b[0m\u001b[37m\u001b[0m \u001b[1m0s\u001b[0m 2ms/step - attrition_output_accuracy: 0.9991 - attrition_output_loss: 0.0074 - department_output_accuracy: 1.0000 - department_output_loss: 0.0081 - loss: 0.0155 - val_attrition_output_accuracy: 0.7585 - val_attrition_output_loss: 2.0021 - val_department_output_accuracy: 0.5424 - val_department_output_loss: 3.0901 - val_loss: 5.2840\n",
      "Epoch 95/100\n",
      "\u001b[1m30/30\u001b[0m \u001b[32m━━━━━━━━━━━━━━━━━━━━\u001b[0m\u001b[37m\u001b[0m \u001b[1m0s\u001b[0m 2ms/step - attrition_output_accuracy: 0.9998 - attrition_output_loss: 0.0119 - department_output_accuracy: 0.9993 - department_output_loss: 0.0076 - loss: 0.0195 - val_attrition_output_accuracy: 0.7288 - val_attrition_output_loss: 1.8280 - val_department_output_accuracy: 0.5593 - val_department_output_loss: 3.1610 - val_loss: 5.1985\n",
      "Epoch 96/100\n",
      "\u001b[1m30/30\u001b[0m \u001b[32m━━━━━━━━━━━━━━━━━━━━\u001b[0m\u001b[37m\u001b[0m \u001b[1m0s\u001b[0m 2ms/step - attrition_output_accuracy: 0.9944 - attrition_output_loss: 0.0140 - department_output_accuracy: 0.9864 - department_output_loss: 0.0349 - loss: 0.0490 - val_attrition_output_accuracy: 0.7669 - val_attrition_output_loss: 2.0241 - val_department_output_accuracy: 0.5254 - val_department_output_loss: 2.9262 - val_loss: 5.2218\n",
      "Epoch 97/100\n",
      "\u001b[1m30/30\u001b[0m \u001b[32m━━━━━━━━━━━━━━━━━━━━\u001b[0m\u001b[37m\u001b[0m \u001b[1m0s\u001b[0m 2ms/step - attrition_output_accuracy: 1.0000 - attrition_output_loss: 0.0082 - department_output_accuracy: 0.9891 - department_output_loss: 0.0342 - loss: 0.0423 - val_attrition_output_accuracy: 0.7627 - val_attrition_output_loss: 1.8842 - val_department_output_accuracy: 0.5805 - val_department_output_loss: 3.0212 - val_loss: 5.1447\n",
      "Epoch 98/100\n",
      "\u001b[1m30/30\u001b[0m \u001b[32m━━━━━━━━━━━━━━━━━━━━\u001b[0m\u001b[37m\u001b[0m \u001b[1m0s\u001b[0m 2ms/step - attrition_output_accuracy: 0.9994 - attrition_output_loss: 0.0127 - department_output_accuracy: 0.9864 - department_output_loss: 0.0558 - loss: 0.0683 - val_attrition_output_accuracy: 0.7797 - val_attrition_output_loss: 2.0446 - val_department_output_accuracy: 0.5085 - val_department_output_loss: 2.9351 - val_loss: 5.1734\n",
      "Epoch 99/100\n",
      "\u001b[1m30/30\u001b[0m \u001b[32m━━━━━━━━━━━━━━━━━━━━\u001b[0m\u001b[37m\u001b[0m \u001b[1m0s\u001b[0m 2ms/step - attrition_output_accuracy: 0.9954 - attrition_output_loss: 0.0189 - department_output_accuracy: 0.9606 - department_output_loss: 0.1094 - loss: 0.1284 - val_attrition_output_accuracy: 0.7415 - val_attrition_output_loss: 1.9546 - val_department_output_accuracy: 0.5763 - val_department_output_loss: 2.9326 - val_loss: 5.0540\n",
      "Epoch 100/100\n",
      "\u001b[1m30/30\u001b[0m \u001b[32m━━━━━━━━━━━━━━━━━━━━\u001b[0m\u001b[37m\u001b[0m \u001b[1m0s\u001b[0m 2ms/step - attrition_output_accuracy: 0.9967 - attrition_output_loss: 0.0144 - department_output_accuracy: 0.9622 - department_output_loss: 0.1269 - loss: 0.1411 - val_attrition_output_accuracy: 0.7754 - val_attrition_output_loss: 2.2351 - val_department_output_accuracy: 0.5763 - val_department_output_loss: 2.8402 - val_loss: 5.3274\n"
     ]
    },
    {
     "data": {
      "text/plain": [
       "<keras.src.callbacks.history.History at 0x182b0a82c90>"
      ]
     },
     "execution_count": 34,
     "metadata": {},
     "output_type": "execute_result"
    }
   ],
   "source": [
    "# Train the model\n",
    "model.fit(\n",
    "    X_train_scaled,\n",
    "    {\n",
    "        'department_output': y_train_dept, 'attrition_output': y_train_att\n",
    "    },\n",
    "    epochs=100,\n",
    "    batch_size=32,\n",
    "    validation_split=0.2\n",
    ")\n"
   ]
  },
  {
   "cell_type": "code",
   "execution_count": 32,
   "metadata": {
    "colab": {
     "base_uri": "https://localhost:8080/"
    },
    "id": "VsMoaQlgGc3U",
    "outputId": "1bd4e601-e964-4abc-ad83-aeecf6b696be"
   },
   "outputs": [
    {
     "name": "stdout",
     "output_type": "stream",
     "text": [
      "\u001b[1m10/10\u001b[0m \u001b[32m━━━━━━━━━━━━━━━━━━━━\u001b[0m\u001b[37m\u001b[0m \u001b[1m0s\u001b[0m 2ms/step - attrition_output_accuracy: 0.7911 - attrition_output_loss: 0.5467 - department_output_accuracy: 0.5988 - department_output_loss: 1.0556 - loss: 1.6072\n"
     ]
    },
    {
     "data": {
      "text/plain": [
       "[1.4740127325057983,\n",
       " 0.47857600450515747,\n",
       " 0.9745113253593445,\n",
       " 0.8061224222183228,\n",
       " 0.6326530575752258]"
      ]
     },
     "execution_count": 32,
     "metadata": {},
     "output_type": "execute_result"
    }
   ],
   "source": [
    "# Evaluate the model with the testing data\n",
    "test_results = model.evaluate(X_test_scaled, {'department_output': y_test_dept, 'attrition_output': y_test_att})\n",
    "test_results"
   ]
  },
  {
   "cell_type": "code",
   "execution_count": 44,
   "metadata": {
    "colab": {
     "base_uri": "https://localhost:8080/"
    },
    "id": "ZlCtlHi0Vt54",
    "outputId": "bc21ef3e-80c2-4b38-9c29-79515bc23dec"
   },
   "outputs": [
    {
     "name": "stdout",
     "output_type": "stream",
     "text": [
      "Department Accuracy: 0.47857600450515747\n",
      "Attrition Accuracy: 0.8061224222183228\n"
     ]
    }
   ],
   "source": [
    "# Print the accuracy for both department and attrition\n",
    "print(f\"Department Accuracy: {test_results[1]}\")\n",
    "print(f\"Attrition Accuracy: {test_results[3]}\")"
   ]
  },
  {
   "cell_type": "markdown",
   "metadata": {
    "id": "eGSyfsZfWOQM"
   },
   "source": [
    "# Summary\n",
    "\n",
    "In the provided space below, briefly answer the following questions.\n",
    "\n",
    "1. Is accuracy the best metric to use on this data? Why or why not? \n",
    "\n",
    "2. What activation functions did you choose for your output layers, and why?\n",
    "\n",
    "3. Can you name a few ways that this model might be improved?"
   ]
  },
  {
   "cell_type": "markdown",
   "metadata": {
    "id": "pi9SLpFnWvbF"
   },
   "source": [
    "YOUR ANSWERS HERE\n",
    "\n",
    "1. Acurracy is not the best metric for this data. for department accuracy, with three categories, imbalance might not be as severe unless one department overwhelmingly dominates. Here, accuracy might still be somewhat informative, but check for class distribution. For attrition, if attrition is a rare event, high accuracy might be achieved by always predicting \"no attrition,\" which isn't useful for business decisions.\n",
    "2. I used softmax for the Department output because it had 3 catagories (multi-class) and therefor was not binary. And I used Sigmoid for the attrition output because it was binary.\n",
    "3. Not sure it will always improve, but we can always expiriemnt with different layers, neurons per layer, or different types of layers. We could also try different ectivation functions that we havent covered in class, like LeakyReLU, ELU, or SELU. for the output layers, we should make sure the activation function matches the task."
   ]
  },
  {
   "cell_type": "markdown",
   "metadata": {},
   "source": []
  }
 ],
 "metadata": {
  "colab": {
   "provenance": []
  },
  "kernelspec": {
   "display_name": "Python 3 (ipykernel)",
   "language": "python",
   "name": "python3"
  },
  "language_info": {
   "codemirror_mode": {
    "name": "ipython",
    "version": 3
   },
   "file_extension": ".py",
   "mimetype": "text/x-python",
   "name": "python",
   "nbconvert_exporter": "python",
   "pygments_lexer": "ipython3",
   "version": "3.12.3"
  },
  "vscode": {
   "interpreter": {
    "hash": "31f2aee4e71d21fbe5cf8b01ff0e069b9275f58929596ceb00d14d90e3e16cd6"
   }
  }
 },
 "nbformat": 4,
 "nbformat_minor": 4
}
